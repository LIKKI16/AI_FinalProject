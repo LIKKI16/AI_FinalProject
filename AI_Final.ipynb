{
 "cells": [
  {
   "cell_type": "markdown",
   "id": "ba0792ca-6ae1-4f29-b325-92643a427319",
   "metadata": {},
   "source": [
    "<br></br>\n",
    "<b><h2> Loading Python Libraries </h2></b>"
   ]
  },
  {
   "cell_type": "code",
   "execution_count": 1,
   "id": "828ad2b9-bc01-4477-a1c9-43737e1483e0",
   "metadata": {},
   "outputs": [],
   "source": [
    "# Let's import the required python packages\n",
    "import random\n",
    "import os\n",
    "import numpy as np\n",
    "import pandas as pd\n",
    "import seaborn as sns\n",
    "import missingno as msno\n",
    "import matplotlib.pyplot as plt\n",
    "\n",
    "# %matplotlib inlines\n",
    "\n",
    "from tensorflow.keras.layers import Dense\n",
    "from tensorflow.keras.models import Sequential\n",
    "from keras.callbacks import ModelCheckpoint"
   ]
  },
  {
   "cell_type": "markdown",
   "id": "36c866c4-2fcb-46b9-b4ff-396b2d8d3e80",
   "metadata": {},
   "source": [
    "<br></br>\n",
    "<b><h2> Loading the Dataset </h2></b>"
   ]
  },
  {
   "cell_type": "code",
   "execution_count": 2,
   "id": "732afab1-c69e-4c23-964a-e8e145085ee9",
   "metadata": {},
   "outputs": [
    {
     "name": "stdout",
     "output_type": "stream",
     "text": [
      "hypertension_data.csv --> (26083, 14)\n",
      "\n"
     ]
    },
    {
     "data": {
      "text/html": [
       "<div>\n",
       "<style scoped>\n",
       "    .dataframe tbody tr th:only-of-type {\n",
       "        vertical-align: middle;\n",
       "    }\n",
       "\n",
       "    .dataframe tbody tr th {\n",
       "        vertical-align: top;\n",
       "    }\n",
       "\n",
       "    .dataframe thead th {\n",
       "        text-align: right;\n",
       "    }\n",
       "</style>\n",
       "<table border=\"1\" class=\"dataframe\">\n",
       "  <thead>\n",
       "    <tr style=\"text-align: right;\">\n",
       "      <th></th>\n",
       "      <th>age</th>\n",
       "      <th>sex</th>\n",
       "      <th>cp</th>\n",
       "      <th>trestbps</th>\n",
       "      <th>chol</th>\n",
       "      <th>fbs</th>\n",
       "      <th>restecg</th>\n",
       "      <th>thalach</th>\n",
       "      <th>exang</th>\n",
       "      <th>oldpeak</th>\n",
       "      <th>slope</th>\n",
       "      <th>ca</th>\n",
       "      <th>thal</th>\n",
       "      <th>target</th>\n",
       "    </tr>\n",
       "  </thead>\n",
       "  <tbody>\n",
       "    <tr>\n",
       "      <th>0</th>\n",
       "      <td>57.0</td>\n",
       "      <td>1.0</td>\n",
       "      <td>3</td>\n",
       "      <td>145</td>\n",
       "      <td>233</td>\n",
       "      <td>1</td>\n",
       "      <td>0</td>\n",
       "      <td>150</td>\n",
       "      <td>0</td>\n",
       "      <td>2.3</td>\n",
       "      <td>0</td>\n",
       "      <td>0</td>\n",
       "      <td>1</td>\n",
       "      <td>1</td>\n",
       "    </tr>\n",
       "    <tr>\n",
       "      <th>1</th>\n",
       "      <td>64.0</td>\n",
       "      <td>0.0</td>\n",
       "      <td>2</td>\n",
       "      <td>130</td>\n",
       "      <td>250</td>\n",
       "      <td>0</td>\n",
       "      <td>1</td>\n",
       "      <td>187</td>\n",
       "      <td>0</td>\n",
       "      <td>3.5</td>\n",
       "      <td>0</td>\n",
       "      <td>0</td>\n",
       "      <td>2</td>\n",
       "      <td>1</td>\n",
       "    </tr>\n",
       "    <tr>\n",
       "      <th>2</th>\n",
       "      <td>52.0</td>\n",
       "      <td>1.0</td>\n",
       "      <td>1</td>\n",
       "      <td>130</td>\n",
       "      <td>204</td>\n",
       "      <td>0</td>\n",
       "      <td>0</td>\n",
       "      <td>172</td>\n",
       "      <td>0</td>\n",
       "      <td>1.4</td>\n",
       "      <td>2</td>\n",
       "      <td>0</td>\n",
       "      <td>2</td>\n",
       "      <td>1</td>\n",
       "    </tr>\n",
       "    <tr>\n",
       "      <th>3</th>\n",
       "      <td>56.0</td>\n",
       "      <td>0.0</td>\n",
       "      <td>1</td>\n",
       "      <td>120</td>\n",
       "      <td>236</td>\n",
       "      <td>0</td>\n",
       "      <td>1</td>\n",
       "      <td>178</td>\n",
       "      <td>0</td>\n",
       "      <td>0.8</td>\n",
       "      <td>2</td>\n",
       "      <td>0</td>\n",
       "      <td>2</td>\n",
       "      <td>1</td>\n",
       "    </tr>\n",
       "    <tr>\n",
       "      <th>4</th>\n",
       "      <td>66.0</td>\n",
       "      <td>0.0</td>\n",
       "      <td>0</td>\n",
       "      <td>120</td>\n",
       "      <td>354</td>\n",
       "      <td>0</td>\n",
       "      <td>1</td>\n",
       "      <td>163</td>\n",
       "      <td>1</td>\n",
       "      <td>0.6</td>\n",
       "      <td>2</td>\n",
       "      <td>0</td>\n",
       "      <td>2</td>\n",
       "      <td>1</td>\n",
       "    </tr>\n",
       "    <tr>\n",
       "      <th>5</th>\n",
       "      <td>51.0</td>\n",
       "      <td>1.0</td>\n",
       "      <td>0</td>\n",
       "      <td>140</td>\n",
       "      <td>192</td>\n",
       "      <td>0</td>\n",
       "      <td>1</td>\n",
       "      <td>148</td>\n",
       "      <td>0</td>\n",
       "      <td>0.4</td>\n",
       "      <td>1</td>\n",
       "      <td>0</td>\n",
       "      <td>1</td>\n",
       "      <td>1</td>\n",
       "    </tr>\n",
       "    <tr>\n",
       "      <th>6</th>\n",
       "      <td>42.0</td>\n",
       "      <td>0.0</td>\n",
       "      <td>1</td>\n",
       "      <td>140</td>\n",
       "      <td>294</td>\n",
       "      <td>0</td>\n",
       "      <td>0</td>\n",
       "      <td>153</td>\n",
       "      <td>0</td>\n",
       "      <td>1.3</td>\n",
       "      <td>1</td>\n",
       "      <td>0</td>\n",
       "      <td>2</td>\n",
       "      <td>1</td>\n",
       "    </tr>\n",
       "    <tr>\n",
       "      <th>7</th>\n",
       "      <td>38.0</td>\n",
       "      <td>0.0</td>\n",
       "      <td>1</td>\n",
       "      <td>120</td>\n",
       "      <td>263</td>\n",
       "      <td>0</td>\n",
       "      <td>1</td>\n",
       "      <td>173</td>\n",
       "      <td>0</td>\n",
       "      <td>0.0</td>\n",
       "      <td>2</td>\n",
       "      <td>0</td>\n",
       "      <td>3</td>\n",
       "      <td>1</td>\n",
       "    </tr>\n",
       "    <tr>\n",
       "      <th>8</th>\n",
       "      <td>72.0</td>\n",
       "      <td>0.0</td>\n",
       "      <td>2</td>\n",
       "      <td>172</td>\n",
       "      <td>199</td>\n",
       "      <td>1</td>\n",
       "      <td>1</td>\n",
       "      <td>162</td>\n",
       "      <td>0</td>\n",
       "      <td>0.5</td>\n",
       "      <td>2</td>\n",
       "      <td>0</td>\n",
       "      <td>3</td>\n",
       "      <td>1</td>\n",
       "    </tr>\n",
       "    <tr>\n",
       "      <th>9</th>\n",
       "      <td>47.0</td>\n",
       "      <td>0.0</td>\n",
       "      <td>2</td>\n",
       "      <td>150</td>\n",
       "      <td>168</td>\n",
       "      <td>0</td>\n",
       "      <td>1</td>\n",
       "      <td>174</td>\n",
       "      <td>0</td>\n",
       "      <td>1.6</td>\n",
       "      <td>2</td>\n",
       "      <td>0</td>\n",
       "      <td>2</td>\n",
       "      <td>1</td>\n",
       "    </tr>\n",
       "  </tbody>\n",
       "</table>\n",
       "</div>"
      ],
      "text/plain": [
       "    age  sex  cp  trestbps  chol  fbs  restecg  thalach  exang  oldpeak  \\\n",
       "0  57.0  1.0   3       145   233    1        0      150      0      2.3   \n",
       "1  64.0  0.0   2       130   250    0        1      187      0      3.5   \n",
       "2  52.0  1.0   1       130   204    0        0      172      0      1.4   \n",
       "3  56.0  0.0   1       120   236    0        1      178      0      0.8   \n",
       "4  66.0  0.0   0       120   354    0        1      163      1      0.6   \n",
       "5  51.0  1.0   0       140   192    0        1      148      0      0.4   \n",
       "6  42.0  0.0   1       140   294    0        0      153      0      1.3   \n",
       "7  38.0  0.0   1       120   263    0        1      173      0      0.0   \n",
       "8  72.0  0.0   2       172   199    1        1      162      0      0.5   \n",
       "9  47.0  0.0   2       150   168    0        1      174      0      1.6   \n",
       "\n",
       "   slope  ca  thal  target  \n",
       "0      0   0     1       1  \n",
       "1      0   0     2       1  \n",
       "2      2   0     2       1  \n",
       "3      2   0     2       1  \n",
       "4      2   0     2       1  \n",
       "5      1   0     1       1  \n",
       "6      1   0     2       1  \n",
       "7      2   0     3       1  \n",
       "8      2   0     3       1  \n",
       "9      2   0     2       1  "
      ]
     },
     "execution_count": 2,
     "metadata": {},
     "output_type": "execute_result"
    }
   ],
   "source": [
    "# Let's load the Health insurance data into a dataframe using pandas\n",
    "data_frame = pd.read_csv(\"hypertension_data.csv\")\n",
    "\n",
    "# Let's take a quick look at the shape of the dataframe\n",
    "print(\"hypertension_data.csv -->\", data_frame.shape)\n",
    "print()\n",
    "\n",
    "# Let's take a brief look at the contents of the dataframe\n",
    "data_frame.head(10)"
   ]
  },
  {
   "cell_type": "markdown",
   "id": "74cefeb9-e350-43ac-af7f-c0528a092e93",
   "metadata": {},
   "source": [
    "<br></br>\n",
    "<h2><b> Gaining Insights from Data </b></h2>"
   ]
  },
  {
   "cell_type": "code",
   "execution_count": 3,
   "id": "3e9a5cdd-c7c9-49cb-b171-cff00aafb747",
   "metadata": {},
   "outputs": [
    {
     "name": "stdout",
     "output_type": "stream",
     "text": [
      "<class 'pandas.core.frame.DataFrame'>\n",
      "RangeIndex: 26083 entries, 0 to 26082\n",
      "Data columns (total 14 columns):\n",
      " #   Column    Non-Null Count  Dtype  \n",
      "---  ------    --------------  -----  \n",
      " 0   age       26083 non-null  float64\n",
      " 1   sex       26058 non-null  float64\n",
      " 2   cp        26083 non-null  int64  \n",
      " 3   trestbps  26083 non-null  int64  \n",
      " 4   chol      26083 non-null  int64  \n",
      " 5   fbs       26083 non-null  int64  \n",
      " 6   restecg   26083 non-null  int64  \n",
      " 7   thalach   26083 non-null  int64  \n",
      " 8   exang     26083 non-null  int64  \n",
      " 9   oldpeak   26083 non-null  float64\n",
      " 10  slope     26083 non-null  int64  \n",
      " 11  ca        26083 non-null  int64  \n",
      " 12  thal      26083 non-null  int64  \n",
      " 13  target    26083 non-null  int64  \n",
      "dtypes: float64(3), int64(11)\n",
      "memory usage: 2.8 MB\n"
     ]
    }
   ],
   "source": [
    "# Let's obtain a brief overview of the dataframe\n",
    "data_frame.info()"
   ]
  },
  {
   "cell_type": "code",
   "execution_count": 4,
   "id": "a6506132-0494-4a61-ac3e-c363729ec4dd",
   "metadata": {},
   "outputs": [
    {
     "data": {
      "text/html": [
       "<div>\n",
       "<style scoped>\n",
       "    .dataframe tbody tr th:only-of-type {\n",
       "        vertical-align: middle;\n",
       "    }\n",
       "\n",
       "    .dataframe tbody tr th {\n",
       "        vertical-align: top;\n",
       "    }\n",
       "\n",
       "    .dataframe thead th {\n",
       "        text-align: right;\n",
       "    }\n",
       "</style>\n",
       "<table border=\"1\" class=\"dataframe\">\n",
       "  <thead>\n",
       "    <tr style=\"text-align: right;\">\n",
       "      <th></th>\n",
       "      <th>age</th>\n",
       "      <th>sex</th>\n",
       "      <th>cp</th>\n",
       "      <th>trestbps</th>\n",
       "      <th>chol</th>\n",
       "      <th>fbs</th>\n",
       "      <th>restecg</th>\n",
       "      <th>thalach</th>\n",
       "      <th>exang</th>\n",
       "      <th>oldpeak</th>\n",
       "      <th>slope</th>\n",
       "      <th>ca</th>\n",
       "      <th>thal</th>\n",
       "      <th>target</th>\n",
       "    </tr>\n",
       "  </thead>\n",
       "  <tbody>\n",
       "    <tr>\n",
       "      <th>count</th>\n",
       "      <td>26083.000000</td>\n",
       "      <td>26058.00000</td>\n",
       "      <td>26083.000000</td>\n",
       "      <td>26083.000000</td>\n",
       "      <td>26083.000000</td>\n",
       "      <td>26083.000000</td>\n",
       "      <td>26083.000000</td>\n",
       "      <td>26083.000000</td>\n",
       "      <td>26083.000000</td>\n",
       "      <td>26083.000000</td>\n",
       "      <td>26083.000000</td>\n",
       "      <td>26083.000000</td>\n",
       "      <td>26083.000000</td>\n",
       "      <td>26083.000000</td>\n",
       "    </tr>\n",
       "    <tr>\n",
       "      <th>mean</th>\n",
       "      <td>55.661389</td>\n",
       "      <td>0.50000</td>\n",
       "      <td>0.958594</td>\n",
       "      <td>131.592992</td>\n",
       "      <td>246.246061</td>\n",
       "      <td>0.149753</td>\n",
       "      <td>0.526512</td>\n",
       "      <td>149.655024</td>\n",
       "      <td>0.326573</td>\n",
       "      <td>1.039512</td>\n",
       "      <td>1.400299</td>\n",
       "      <td>0.721849</td>\n",
       "      <td>2.318752</td>\n",
       "      <td>0.547253</td>\n",
       "    </tr>\n",
       "    <tr>\n",
       "      <th>std</th>\n",
       "      <td>15.189768</td>\n",
       "      <td>0.50001</td>\n",
       "      <td>1.023931</td>\n",
       "      <td>17.588809</td>\n",
       "      <td>51.643522</td>\n",
       "      <td>0.356836</td>\n",
       "      <td>0.525641</td>\n",
       "      <td>22.858109</td>\n",
       "      <td>0.468969</td>\n",
       "      <td>1.165138</td>\n",
       "      <td>0.616513</td>\n",
       "      <td>1.011608</td>\n",
       "      <td>0.604659</td>\n",
       "      <td>0.497772</td>\n",
       "    </tr>\n",
       "    <tr>\n",
       "      <th>min</th>\n",
       "      <td>11.000000</td>\n",
       "      <td>0.00000</td>\n",
       "      <td>0.000000</td>\n",
       "      <td>94.000000</td>\n",
       "      <td>126.000000</td>\n",
       "      <td>0.000000</td>\n",
       "      <td>0.000000</td>\n",
       "      <td>71.000000</td>\n",
       "      <td>0.000000</td>\n",
       "      <td>0.000000</td>\n",
       "      <td>0.000000</td>\n",
       "      <td>0.000000</td>\n",
       "      <td>0.000000</td>\n",
       "      <td>0.000000</td>\n",
       "    </tr>\n",
       "    <tr>\n",
       "      <th>25%</th>\n",
       "      <td>44.000000</td>\n",
       "      <td>0.00000</td>\n",
       "      <td>0.000000</td>\n",
       "      <td>120.000000</td>\n",
       "      <td>211.000000</td>\n",
       "      <td>0.000000</td>\n",
       "      <td>0.000000</td>\n",
       "      <td>133.000000</td>\n",
       "      <td>0.000000</td>\n",
       "      <td>0.000000</td>\n",
       "      <td>1.000000</td>\n",
       "      <td>0.000000</td>\n",
       "      <td>2.000000</td>\n",
       "      <td>0.000000</td>\n",
       "    </tr>\n",
       "    <tr>\n",
       "      <th>50%</th>\n",
       "      <td>56.000000</td>\n",
       "      <td>0.50000</td>\n",
       "      <td>1.000000</td>\n",
       "      <td>130.000000</td>\n",
       "      <td>240.000000</td>\n",
       "      <td>0.000000</td>\n",
       "      <td>1.000000</td>\n",
       "      <td>153.000000</td>\n",
       "      <td>0.000000</td>\n",
       "      <td>0.800000</td>\n",
       "      <td>1.000000</td>\n",
       "      <td>0.000000</td>\n",
       "      <td>2.000000</td>\n",
       "      <td>1.000000</td>\n",
       "    </tr>\n",
       "    <tr>\n",
       "      <th>75%</th>\n",
       "      <td>67.000000</td>\n",
       "      <td>1.00000</td>\n",
       "      <td>2.000000</td>\n",
       "      <td>140.000000</td>\n",
       "      <td>275.000000</td>\n",
       "      <td>0.000000</td>\n",
       "      <td>1.000000</td>\n",
       "      <td>166.000000</td>\n",
       "      <td>1.000000</td>\n",
       "      <td>1.600000</td>\n",
       "      <td>2.000000</td>\n",
       "      <td>1.000000</td>\n",
       "      <td>3.000000</td>\n",
       "      <td>1.000000</td>\n",
       "    </tr>\n",
       "    <tr>\n",
       "      <th>max</th>\n",
       "      <td>98.000000</td>\n",
       "      <td>1.00000</td>\n",
       "      <td>3.000000</td>\n",
       "      <td>200.000000</td>\n",
       "      <td>564.000000</td>\n",
       "      <td>1.000000</td>\n",
       "      <td>2.000000</td>\n",
       "      <td>202.000000</td>\n",
       "      <td>1.000000</td>\n",
       "      <td>6.200000</td>\n",
       "      <td>2.000000</td>\n",
       "      <td>4.000000</td>\n",
       "      <td>3.000000</td>\n",
       "      <td>1.000000</td>\n",
       "    </tr>\n",
       "  </tbody>\n",
       "</table>\n",
       "</div>"
      ],
      "text/plain": [
       "                age          sex            cp      trestbps          chol  \\\n",
       "count  26083.000000  26058.00000  26083.000000  26083.000000  26083.000000   \n",
       "mean      55.661389      0.50000      0.958594    131.592992    246.246061   \n",
       "std       15.189768      0.50001      1.023931     17.588809     51.643522   \n",
       "min       11.000000      0.00000      0.000000     94.000000    126.000000   \n",
       "25%       44.000000      0.00000      0.000000    120.000000    211.000000   \n",
       "50%       56.000000      0.50000      1.000000    130.000000    240.000000   \n",
       "75%       67.000000      1.00000      2.000000    140.000000    275.000000   \n",
       "max       98.000000      1.00000      3.000000    200.000000    564.000000   \n",
       "\n",
       "                fbs       restecg       thalach         exang       oldpeak  \\\n",
       "count  26083.000000  26083.000000  26083.000000  26083.000000  26083.000000   \n",
       "mean       0.149753      0.526512    149.655024      0.326573      1.039512   \n",
       "std        0.356836      0.525641     22.858109      0.468969      1.165138   \n",
       "min        0.000000      0.000000     71.000000      0.000000      0.000000   \n",
       "25%        0.000000      0.000000    133.000000      0.000000      0.000000   \n",
       "50%        0.000000      1.000000    153.000000      0.000000      0.800000   \n",
       "75%        0.000000      1.000000    166.000000      1.000000      1.600000   \n",
       "max        1.000000      2.000000    202.000000      1.000000      6.200000   \n",
       "\n",
       "              slope            ca          thal        target  \n",
       "count  26083.000000  26083.000000  26083.000000  26083.000000  \n",
       "mean       1.400299      0.721849      2.318752      0.547253  \n",
       "std        0.616513      1.011608      0.604659      0.497772  \n",
       "min        0.000000      0.000000      0.000000      0.000000  \n",
       "25%        1.000000      0.000000      2.000000      0.000000  \n",
       "50%        1.000000      0.000000      2.000000      1.000000  \n",
       "75%        2.000000      1.000000      3.000000      1.000000  \n",
       "max        2.000000      4.000000      3.000000      1.000000  "
      ]
     },
     "execution_count": 4,
     "metadata": {},
     "output_type": "execute_result"
    }
   ],
   "source": [
    "# Let's see descriptive statistics for all numeric columns\n",
    "data_frame.describe()"
   ]
  },
  {
   "cell_type": "markdown",
   "id": "4897cc6d-a5e9-442d-9bb4-3cacecded6c7",
   "metadata": {},
   "source": [
    "<b><h3>Observations</h3></b>\n",
    "1. <b> In the dataset more number of people are of age around 55</b>\n",
    "2. <b> The dataset consists of equal number of males and females i.e 13029</b>.\n",
    "3. <b> In the dataset more number of people are attacked from type-0 i.e typical angina chest pain.</b> \n",
    "4. <b> Patients' median cholesterol levels are 246.25 mg/dL, which is greater than what is advised for the best cardiovascular health.</b>"
   ]
  },
  {
   "cell_type": "code",
   "execution_count": 5,
   "id": "6e275803-a676-49bd-aa31-62573a8a1c9b",
   "metadata": {},
   "outputs": [],
   "source": [
    "# # Let's see descriptive statistics for all object columns\n",
    "# data_frame.describe(include= 'Object')"
   ]
  },
  {
   "cell_type": "code",
   "execution_count": 6,
   "id": "c81c94ed-0a75-4ffa-91f1-3e1ff38ee0bb",
   "metadata": {},
   "outputs": [],
   "source": [
    "# Function to get unique_counts based on specific column\n",
    "def value_counts(column_name):\n",
    "    return data_frame.loc[:, column_name].value_counts()  # Returns the unique value counts"
   ]
  },
  {
   "cell_type": "code",
   "execution_count": 7,
   "id": "55dd98f5",
   "metadata": {},
   "outputs": [
    {
     "data": {
      "text/plain": [
       "0    12314\n",
       "2     7392\n",
       "1     4456\n",
       "3     1921\n",
       "Name: cp, dtype: int64"
      ]
     },
     "execution_count": 7,
     "metadata": {},
     "output_type": "execute_result"
    }
   ],
   "source": [
    "value_counts(\"cp\")"
   ]
  },
  {
   "cell_type": "markdown",
   "id": "6fe160d1-a2b5-41e2-84bc-6288153d0161",
   "metadata": {},
   "source": [
    "<b>Distribution before Normalization\n",
    "</b>"
   ]
  },
  {
   "cell_type": "code",
   "execution_count": 9,
   "id": "ded09e6d-0b2b-4415-bbd9-a5b0f7da3276",
   "metadata": {},
   "outputs": [
    {
     "name": "stdout",
     "output_type": "stream",
     "text": [
      "Distribution before Normalization\n"
     ]
    },
    {
     "data": {
      "image/png": "[encoded data removed]",
      "text/plain": [
       "<Figure size 864x1080 with 16 Axes>"
      ]
     },
     "metadata": {
      "needs_background": "light"
     },
     "output_type": "display_data"
    }
   ],
   "source": [
    "print(\"Distribution before Normalization\")\n",
    "data_frame.hist(figsize=(12,15))\n",
    "plt.savefig(\"Histogram_distribution_before\")\n",
    "plt.show()"
   ]
  },
  {
   "cell_type": "markdown",
   "id": "c4d455f2-ad6f-49a0-9f1c-cd31bb8800f3",
   "metadata": {},
   "source": [
    "<br></br>\n",
    "### Total number of missing data points in each feature "
   ]
  },
  {
   "cell_type": "code",
   "execution_count": 10,
   "id": "196d171c-a198-454c-9b0b-de4f74958453",
   "metadata": {},
   "outputs": [],
   "source": [
    "data_frame.dropna(inplace = True)"
   ]
  },
  {
   "cell_type": "code",
   "execution_count": 11,
   "id": "a002d032",
   "metadata": {},
   "outputs": [
    {
     "data": {
      "text/plain": [
       "age         0\n",
       "sex         0\n",
       "cp          0\n",
       "trestbps    0\n",
       "chol        0\n",
       "fbs         0\n",
       "restecg     0\n",
       "thalach     0\n",
       "exang       0\n",
       "oldpeak     0\n",
       "slope       0\n",
       "ca          0\n",
       "thal        0\n",
       "target      0\n",
       "dtype: int64"
      ]
     },
     "execution_count": 11,
     "metadata": {},
     "output_type": "execute_result"
    }
   ],
   "source": [
    "# Let's get the number of missing data points per column\n",
    "data_frame.isnull().sum()"
   ]
  },
  {
   "cell_type": "markdown",
   "id": "0bec7c53-0471-44a2-998c-7d08ac3eee05",
   "metadata": {},
   "source": [
    "<br></br>\n",
    "<h2><b> Feature Engineering </b></h2>"
   ]
  },
  {
   "cell_type": "code",
   "execution_count": 13,
   "id": "7caa2f4f-9f30-43ca-b34a-455df218a41e",
   "metadata": {},
   "outputs": [],
   "source": [
    "numerical_columns = data_frame.select_dtypes(exclude=[\"object\"]).columns.tolist()"
   ]
  },
  {
   "cell_type": "markdown",
   "id": "ccb1c5a9-1cb8-4c9f-b7e5-03afb5817848",
   "metadata": {},
   "source": [
    "#### Features and its datatypes"
   ]
  },
  {
   "cell_type": "code",
   "execution_count": 14,
   "id": "4bd66049-59bc-447a-ae48-4b4d847e4f3c",
   "metadata": {},
   "outputs": [
    {
     "data": {
      "text/plain": [
       "age         float64\n",
       "sex         float64\n",
       "cp            int64\n",
       "trestbps      int64\n",
       "chol          int64\n",
       "fbs           int64\n",
       "restecg       int64\n",
       "thalach       int64\n",
       "exang         int64\n",
       "oldpeak     float64\n",
       "slope         int64\n",
       "ca            int64\n",
       "thal          int64\n",
       "target        int64\n",
       "dtype: object"
      ]
     },
     "execution_count": 14,
     "metadata": {},
     "output_type": "execute_result"
    }
   ],
   "source": [
    "# Let's see the data types of all the columns after conversion to numerical features\n",
    "data_frame.dtypes"
   ]
  },
  {
   "cell_type": "markdown",
   "id": "9ec1f7e8-0bf8-44ec-83c0-6d2de225ce48",
   "metadata": {},
   "source": [
    "<br></br>\n",
    "<b><h2> Data Normalization </h2></b>"
   ]
  },
  {
   "cell_type": "code",
   "execution_count": 19,
   "id": "5a60c25b-405b-4fd2-a6d5-4d768b1da66b",
   "metadata": {},
   "outputs": [],
   "source": [
    "# Function to normalize the values of each column by subtracting\n",
    "# the mean and dividing by the standard deviation\n",
    "\n",
    "def normalization(data_frame, column_name):\n",
    "    series = data_frame[column_name]\n",
    "    mean = series.mean()\n",
    "    std = series.std()\n",
    "    normalized_series = (series - mean) / std\n",
    "    return normalized_series"
   ]
  },
  {
   "cell_type": "code",
   "execution_count": 20,
   "id": "9adc4f71-5baa-4067-b9eb-aec63ca329f2",
   "metadata": {},
   "outputs": [],
   "source": [
    "for column_name in data_frame.columns:\n",
    "    if column_name!=\"target\":\n",
    "        data_frame[column_name] = normalization(data_frame, column_name)"
   ]
  },
  {
   "cell_type": "markdown",
   "id": "03b1fd13-e3f5-4529-b814-e47741280d13",
   "metadata": {},
   "source": [
    "#### Descriptive statisctics after normalization"
   ]
  },
  {
   "cell_type": "code",
   "execution_count": 21,
   "id": "05354bb8-3315-4477-85c5-812655f5985f",
   "metadata": {},
   "outputs": [
    {
     "data": {
      "text/html": [
       "<div>\n",
       "<style scoped>\n",
       "    .dataframe tbody tr th:only-of-type {\n",
       "        vertical-align: middle;\n",
       "    }\n",
       "\n",
       "    .dataframe tbody tr th {\n",
       "        vertical-align: top;\n",
       "    }\n",
       "\n",
       "    .dataframe thead th {\n",
       "        text-align: right;\n",
       "    }\n",
       "</style>\n",
       "<table border=\"1\" class=\"dataframe\">\n",
       "  <thead>\n",
       "    <tr style=\"text-align: right;\">\n",
       "      <th></th>\n",
       "      <th>age</th>\n",
       "      <th>sex</th>\n",
       "      <th>cp</th>\n",
       "      <th>trestbps</th>\n",
       "      <th>chol</th>\n",
       "      <th>fbs</th>\n",
       "      <th>restecg</th>\n",
       "      <th>thalach</th>\n",
       "      <th>exang</th>\n",
       "      <th>oldpeak</th>\n",
       "      <th>slope</th>\n",
       "      <th>ca</th>\n",
       "      <th>thal</th>\n",
       "      <th>target</th>\n",
       "    </tr>\n",
       "  </thead>\n",
       "  <tbody>\n",
       "    <tr>\n",
       "      <th>count</th>\n",
       "      <td>2.605800e+04</td>\n",
       "      <td>2.605800e+04</td>\n",
       "      <td>2.605800e+04</td>\n",
       "      <td>2.605800e+04</td>\n",
       "      <td>2.605800e+04</td>\n",
       "      <td>2.605800e+04</td>\n",
       "      <td>2.605800e+04</td>\n",
       "      <td>2.605800e+04</td>\n",
       "      <td>2.605800e+04</td>\n",
       "      <td>2.605800e+04</td>\n",
       "      <td>2.605800e+04</td>\n",
       "      <td>2.605800e+04</td>\n",
       "      <td>2.605800e+04</td>\n",
       "      <td>26058.000000</td>\n",
       "    </tr>\n",
       "    <tr>\n",
       "      <th>mean</th>\n",
       "      <td>-3.098723e-16</td>\n",
       "      <td>4.967841e-18</td>\n",
       "      <td>-5.077695e-16</td>\n",
       "      <td>1.233034e-16</td>\n",
       "      <td>-3.304190e-17</td>\n",
       "      <td>-2.331008e-16</td>\n",
       "      <td>-5.408386e-16</td>\n",
       "      <td>-1.577439e-16</td>\n",
       "      <td>1.156749e-16</td>\n",
       "      <td>4.836632e-15</td>\n",
       "      <td>5.540165e-16</td>\n",
       "      <td>-3.783399e-18</td>\n",
       "      <td>2.421205e-16</td>\n",
       "      <td>0.547778</td>\n",
       "    </tr>\n",
       "    <tr>\n",
       "      <th>std</th>\n",
       "      <td>1.000000e+00</td>\n",
       "      <td>1.000000e+00</td>\n",
       "      <td>1.000000e+00</td>\n",
       "      <td>1.000000e+00</td>\n",
       "      <td>1.000000e+00</td>\n",
       "      <td>1.000000e+00</td>\n",
       "      <td>1.000000e+00</td>\n",
       "      <td>1.000000e+00</td>\n",
       "      <td>1.000000e+00</td>\n",
       "      <td>1.000000e+00</td>\n",
       "      <td>1.000000e+00</td>\n",
       "      <td>1.000000e+00</td>\n",
       "      <td>1.000000e+00</td>\n",
       "      <td>0.497722</td>\n",
       "    </tr>\n",
       "    <tr>\n",
       "      <th>min</th>\n",
       "      <td>-2.939732e+00</td>\n",
       "      <td>-9.999808e-01</td>\n",
       "      <td>-9.356147e-01</td>\n",
       "      <td>-2.136188e+00</td>\n",
       "      <td>-2.328802e+00</td>\n",
       "      <td>-4.199053e-01</td>\n",
       "      <td>-1.000702e+00</td>\n",
       "      <td>-3.439326e+00</td>\n",
       "      <td>-6.968602e-01</td>\n",
       "      <td>-8.919672e-01</td>\n",
       "      <td>-2.270329e+00</td>\n",
       "      <td>-7.125588e-01</td>\n",
       "      <td>-3.833989e+00</td>\n",
       "      <td>0.000000</td>\n",
       "    </tr>\n",
       "    <tr>\n",
       "      <th>25%</th>\n",
       "      <td>-7.673086e-01</td>\n",
       "      <td>-9.999808e-01</td>\n",
       "      <td>-9.356147e-01</td>\n",
       "      <td>-6.586705e-01</td>\n",
       "      <td>-6.831642e-01</td>\n",
       "      <td>-4.199053e-01</td>\n",
       "      <td>-1.000702e+00</td>\n",
       "      <td>-7.278612e-01</td>\n",
       "      <td>-6.968602e-01</td>\n",
       "      <td>-8.919672e-01</td>\n",
       "      <td>-6.483452e-01</td>\n",
       "      <td>-7.125588e-01</td>\n",
       "      <td>-5.274827e-01</td>\n",
       "      <td>0.000000</td>\n",
       "    </tr>\n",
       "    <tr>\n",
       "      <th>50%</th>\n",
       "      <td>2.266368e-02</td>\n",
       "      <td>0.000000e+00</td>\n",
       "      <td>4.241193e-02</td>\n",
       "      <td>-9.039464e-02</td>\n",
       "      <td>-1.217112e-01</td>\n",
       "      <td>-4.199053e-01</td>\n",
       "      <td>9.015659e-01</td>\n",
       "      <td>1.468048e-01</td>\n",
       "      <td>-6.968602e-01</td>\n",
       "      <td>-2.056684e-01</td>\n",
       "      <td>-6.483452e-01</td>\n",
       "      <td>-7.125588e-01</td>\n",
       "      <td>-5.274827e-01</td>\n",
       "      <td>1.000000</td>\n",
       "    </tr>\n",
       "    <tr>\n",
       "      <th>75%</th>\n",
       "      <td>7.468049e-01</td>\n",
       "      <td>9.999808e-01</td>\n",
       "      <td>1.020439e+00</td>\n",
       "      <td>4.778813e-01</td>\n",
       "      <td>5.559044e-01</td>\n",
       "      <td>-4.199053e-01</td>\n",
       "      <td>9.015659e-01</td>\n",
       "      <td>7.153377e-01</td>\n",
       "      <td>1.434953e+00</td>\n",
       "      <td>4.806304e-01</td>\n",
       "      <td>9.736382e-01</td>\n",
       "      <td>2.762503e-01</td>\n",
       "      <td>1.125770e+00</td>\n",
       "      <td>1.000000</td>\n",
       "    </tr>\n",
       "    <tr>\n",
       "      <th>max</th>\n",
       "      <td>2.787567e+00</td>\n",
       "      <td>9.999808e-01</td>\n",
       "      <td>1.998465e+00</td>\n",
       "      <td>3.887537e+00</td>\n",
       "      <td>6.151073e+00</td>\n",
       "      <td>2.381398e+00</td>\n",
       "      <td>2.803834e+00</td>\n",
       "      <td>2.289736e+00</td>\n",
       "      <td>1.434953e+00</td>\n",
       "      <td>4.426849e+00</td>\n",
       "      <td>9.736382e-01</td>\n",
       "      <td>3.242678e+00</td>\n",
       "      <td>1.125770e+00</td>\n",
       "      <td>1.000000</td>\n",
       "    </tr>\n",
       "  </tbody>\n",
       "</table>\n",
       "</div>"
      ],
      "text/plain": [
       "                age           sex            cp      trestbps          chol  \\\n",
       "count  2.605800e+04  2.605800e+04  2.605800e+04  2.605800e+04  2.605800e+04   \n",
       "mean  -3.098723e-16  4.967841e-18 -5.077695e-16  1.233034e-16 -3.304190e-17   \n",
       "std    1.000000e+00  1.000000e+00  1.000000e+00  1.000000e+00  1.000000e+00   \n",
       "min   -2.939732e+00 -9.999808e-01 -9.356147e-01 -2.136188e+00 -2.328802e+00   \n",
       "25%   -7.673086e-01 -9.999808e-01 -9.356147e-01 -6.586705e-01 -6.831642e-01   \n",
       "50%    2.266368e-02  0.000000e+00  4.241193e-02 -9.039464e-02 -1.217112e-01   \n",
       "75%    7.468049e-01  9.999808e-01  1.020439e+00  4.778813e-01  5.559044e-01   \n",
       "max    2.787567e+00  9.999808e-01  1.998465e+00  3.887537e+00  6.151073e+00   \n",
       "\n",
       "                fbs       restecg       thalach         exang       oldpeak  \\\n",
       "count  2.605800e+04  2.605800e+04  2.605800e+04  2.605800e+04  2.605800e+04   \n",
       "mean  -2.331008e-16 -5.408386e-16 -1.577439e-16  1.156749e-16  4.836632e-15   \n",
       "std    1.000000e+00  1.000000e+00  1.000000e+00  1.000000e+00  1.000000e+00   \n",
       "min   -4.199053e-01 -1.000702e+00 -3.439326e+00 -6.968602e-01 -8.919672e-01   \n",
       "25%   -4.199053e-01 -1.000702e+00 -7.278612e-01 -6.968602e-01 -8.919672e-01   \n",
       "50%   -4.199053e-01  9.015659e-01  1.468048e-01 -6.968602e-01 -2.056684e-01   \n",
       "75%   -4.199053e-01  9.015659e-01  7.153377e-01  1.434953e+00  4.806304e-01   \n",
       "max    2.381398e+00  2.803834e+00  2.289736e+00  1.434953e+00  4.426849e+00   \n",
       "\n",
       "              slope            ca          thal        target  \n",
       "count  2.605800e+04  2.605800e+04  2.605800e+04  26058.000000  \n",
       "mean   5.540165e-16 -3.783399e-18  2.421205e-16      0.547778  \n",
       "std    1.000000e+00  1.000000e+00  1.000000e+00      0.497722  \n",
       "min   -2.270329e+00 -7.125588e-01 -3.833989e+00      0.000000  \n",
       "25%   -6.483452e-01 -7.125588e-01 -5.274827e-01      0.000000  \n",
       "50%   -6.483452e-01 -7.125588e-01 -5.274827e-01      1.000000  \n",
       "75%    9.736382e-01  2.762503e-01  1.125770e+00      1.000000  \n",
       "max    9.736382e-01  3.242678e+00  1.125770e+00      1.000000  "
      ]
     },
     "execution_count": 21,
     "metadata": {},
     "output_type": "execute_result"
    }
   ],
   "source": [
    "# Let's see descriptive statistics for all numeric columns after normalization\n",
    "data_frame.describe()"
   ]
  },
  {
   "cell_type": "markdown",
   "id": "3fef3b0e-eded-4016-960b-dd12976fca7f",
   "metadata": {},
   "source": [
    "#### Distributions"
   ]
  },
  {
   "cell_type": "code",
   "execution_count": 22,
   "id": "946e7baa-7a9f-4348-a2f4-e80edfbb9781",
   "metadata": {},
   "outputs": [
    {
     "data": {
      "image/png": "[encoded data removed]",
      "text/plain": [
       "<Figure size 864x1080 with 16 Axes>"
      ]
     },
     "metadata": {
      "needs_background": "light"
     },
     "output_type": "display_data"
    }
   ],
   "source": [
    "# # Let's confirm that all values in a dataframe are within the range of 0 to 1 using boxplots\n",
    "\n",
    "\n",
    "data_frame.hist(figsize=(12,15))\n",
    "plt.savefig(\"Histogram_distribution_after\")\n",
    "plt.show()\n",
    "    \n",
    "\n",
    "# Let's remove empty subplot\n",
    "# figure.delaxes(axis[nrow_plots - 1][ncol_plots - 1])"
   ]
  },
  {
   "cell_type": "markdown",
   "id": "92758ce0-650e-4084-8d43-c4e871c68130",
   "metadata": {},
   "source": [
    "<br></br>\n",
    "<h2><b>Output Column Distribution</b></h2>"
   ]
  },
  {
   "cell_type": "code",
   "execution_count": 23,
   "id": "38819de8-4e5c-4502-b482-4d2334edd542",
   "metadata": {},
   "outputs": [
    {
     "data": {
      "text/plain": [
       "1    54.777803\n",
       "0    45.222197\n",
       "Name: target, dtype: float64"
      ]
     },
     "execution_count": 23,
     "metadata": {},
     "output_type": "execute_result"
    }
   ],
   "source": [
    "# Let's see the percentage of 0's and 1's in output column(RainTomorrow)\n",
    "percentage = data_frame.loc[:, \"target\"].value_counts(normalize=True) * 100\n",
    "percentage"
   ]
  },
  {
   "cell_type": "markdown",
   "id": "a9dad614-6439-45bb-adfa-014a71a2ea96",
   "metadata": {},
   "source": [
    "#### Pie chart distribution of Target label"
   ]
  },
  {
   "cell_type": "code",
   "execution_count": 24,
   "id": "3f2a02eb-9d4d-4548-b8d5-785d30b1fcce",
   "metadata": {},
   "outputs": [
    {
     "data": {
      "image/png": "[encoded data removed]",
      "text/plain": [
       "<Figure size 432x288 with 1 Axes>"
      ]
     },
     "metadata": {},
     "output_type": "display_data"
    }
   ],
   "source": [
    "plt.pie(percentage, labels=[\"0\", \"1\"], autopct=\"%1.1f%%\")\n",
    "plt.title(\"Distribution of Target label\")\n",
    "plt.savefig(\"Piechart_Distribution_of_target_label\")\n",
    "plt.show()"
   ]
  },
  {
   "cell_type": "markdown",
   "id": "b3ea1bc5-d302-47ae-bc29-dda83d699d77",
   "metadata": {},
   "source": [
    "<br></br>\n",
    "## Phase - 2 Build a model to overfit the entire dataset)"
   ]
  },
  {
   "cell_type": "markdown",
   "id": "231fd85e-3004-40d7-8208-0feb4b08ecdf",
   "metadata": {},
   "source": [
    "#### Model Building"
   ]
  },
  {
   "cell_type": "code",
   "execution_count": 25,
   "id": "b69ee9e0",
   "metadata": {},
   "outputs": [
    {
     "data": {
      "text/plain": [
       "(26058, 13)"
      ]
     },
     "execution_count": 25,
     "metadata": {},
     "output_type": "execute_result"
    }
   ],
   "source": [
    "x_data = data_frame.iloc[:, :-1].values\n",
    "y_data = data_frame.iloc[:, -1].values\n",
    "\n",
    "x_data.shape"
   ]
  },
  {
   "cell_type": "code",
   "execution_count": 26,
   "id": "4cf1522e-8abd-409b-a8a7-5700d96cafdd",
   "metadata": {},
   "outputs": [],
   "source": [
    "# Let's create a keras sequential model\n",
    "model = Sequential()\n",
    "\n",
    "# Let's add dense layer to the model network\n",
    "model.add(Dense(1, input_dim=data_frame.shape[1] - 1, activation=\"relu\"))"
   ]
  },
  {
   "cell_type": "markdown",
   "id": "f6d1d596-6e65-455d-ac8c-612ad63fcfdd",
   "metadata": {},
   "source": [
    "#### Model Compilation"
   ]
  },
  {
   "cell_type": "code",
   "execution_count": 27,
   "id": "f70e4963-4fdc-4137-a4d2-c5a898b30088",
   "metadata": {},
   "outputs": [],
   "source": [
    "#Compiling a model\n",
    "model.compile(loss=\"binary_crossentropy\", optimizer=\"adam\", metrics=[\"accuracy\"])"
   ]
  },
  {
   "cell_type": "markdown",
   "id": "eb4ffdc4-38db-4f37-94d6-d5997e55377f",
   "metadata": {},
   "source": [
    "#### Model Training"
   ]
  },
  {
   "cell_type": "code",
   "execution_count": 28,
   "id": "436903e1-5794-483a-8546-826d7e6fe092",
   "metadata": {},
   "outputs": [
    {
     "name": "stdout",
     "output_type": "stream",
     "text": [
      "Epoch 1/10\n",
      "815/815 [==============================] - 3s 2ms/step - loss: 4.3992 - accuracy: 0.6031\n",
      "Epoch 2/10\n",
      "815/815 [==============================] - 2s 2ms/step - loss: 3.3161 - accuracy: 0.6822\n",
      "Epoch 3/10\n",
      "815/815 [==============================] - 2s 2ms/step - loss: 3.0536 - accuracy: 0.7049\n",
      "Epoch 4/10\n",
      "815/815 [==============================] - 2s 2ms/step - loss: 2.8957 - accuracy: 0.7197\n",
      "Epoch 5/10\n",
      "815/815 [==============================] - 2s 2ms/step - loss: 2.7139 - accuracy: 0.7337\n",
      "Epoch 6/10\n",
      "815/815 [==============================] - 2s 2ms/step - loss: 2.4311 - accuracy: 0.7519\n",
      "Epoch 7/10\n",
      "815/815 [==============================] - 2s 2ms/step - loss: 2.1591 - accuracy: 0.7739\n",
      "Epoch 8/10\n",
      "815/815 [==============================] - 2s 2ms/step - loss: 2.0141 - accuracy: 0.7841\n",
      "Epoch 9/10\n",
      "815/815 [==============================] - 2s 2ms/step - loss: 1.8380 - accuracy: 0.7972\n",
      "Epoch 10/10\n",
      "815/815 [==============================] - 2s 2ms/step - loss: 1.6824 - accuracy: 0.8087\n"
     ]
    }
   ],
   "source": [
    "# Let's fit the sequential model with input features and output label\n",
    "history = model.fit(x_data, y_data, epochs=10, verbose=1)"
   ]
  },
  {
   "cell_type": "code",
   "execution_count": 29,
   "id": "643e291f",
   "metadata": {},
   "outputs": [
    {
     "data": {
      "image/png": "[encoded data removed]",
      "text/plain": [
       "<Figure size 432x288 with 1 Axes>"
      ]
     },
     "metadata": {
      "needs_background": "light"
     },
     "output_type": "display_data"
    },
    {
     "data": {
      "image/png": "[encoded data removed]",
      "text/plain": [
       "<Figure size 432x288 with 1 Axes>"
      ]
     },
     "metadata": {
      "needs_background": "light"
     },
     "output_type": "display_data"
    }
   ],
   "source": [
    "x=np.arange(1,11)\n",
    "\n",
    "sns.lineplot(x=x, y=history.history['accuracy'])\n",
    "plt.title('model accuracy')\n",
    "plt.xlabel('epoch')\n",
    "plt.ylabel('accuracy')\n",
    "plt.show()\n",
    "\n",
    "sns.lineplot(x=x, y=history.history['loss'])\n",
    "plt.title('model loss')\n",
    "plt.xlabel('epoch')\n",
    "plt.ylabel('loss')\n",
    "plt.show()"
   ]
  },
  {
   "cell_type": "code",
   "execution_count": 30,
   "id": "d549b77c-4029-43b9-ae28-91c03289219f",
   "metadata": {},
   "outputs": [],
   "source": [
    "# Let's create a keras sequential model\n",
    "model1 = Sequential()\n",
    "\n",
    "# Let's add dense layer to the model network\n",
    "model1.add(Dense(8, input_dim=data_frame.shape[1] - 1, activation=\"tanh\"))\n",
    "model1.add(Dense(4, activation = \"tanh\"))\n",
    "model1.add(Dense(1, activation = \"sigmoid\"))"
   ]
  },
  {
   "cell_type": "code",
   "execution_count": 31,
   "id": "424c0a55-cd82-4ecd-aa69-132e84386691",
   "metadata": {},
   "outputs": [],
   "source": [
    "model1.compile(loss=\"binary_crossentropy\", optimizer=\"adam\", metrics=[\"accuracy\"])"
   ]
  },
  {
   "cell_type": "code",
   "execution_count": 32,
   "id": "f551baf0-24e9-4b40-b3bf-14fa5991c0c3",
   "metadata": {},
   "outputs": [
    {
     "name": "stdout",
     "output_type": "stream",
     "text": [
      "Epoch 1/10\n",
      "815/815 [==============================] - 3s 2ms/step - loss: 0.3839 - accuracy: 0.8428\n",
      "Epoch 2/10\n",
      "815/815 [==============================] - 2s 2ms/step - loss: 0.3215 - accuracy: 0.8785\n",
      "Epoch 3/10\n",
      "815/815 [==============================] - 2s 2ms/step - loss: 0.2731 - accuracy: 0.9041\n",
      "Epoch 4/10\n",
      "815/815 [==============================] - 2s 2ms/step - loss: 0.2231 - accuracy: 0.9313\n",
      "Epoch 5/10\n",
      "815/815 [==============================] - 2s 2ms/step - loss: 0.1856 - accuracy: 0.9499\n",
      "Epoch 6/10\n",
      "815/815 [==============================] - 2s 2ms/step - loss: 0.1582 - accuracy: 0.9608\n",
      "Epoch 7/10\n",
      "815/815 [==============================] - 2s 2ms/step - loss: 0.1358 - accuracy: 0.9713\n",
      "Epoch 8/10\n",
      "815/815 [==============================] - 2s 2ms/step - loss: 0.1169 - accuracy: 0.9788\n",
      "Epoch 9/10\n",
      "815/815 [==============================] - 2s 2ms/step - loss: 0.1050 - accuracy: 0.9805\n",
      "Epoch 10/10\n",
      "815/815 [==============================] - 2s 3ms/step - loss: 0.0959 - accuracy: 0.9821\n"
     ]
    }
   ],
   "source": [
    "history1 = model1.fit(x_data, y_data, epochs=10, verbose=1)"
   ]
  },
  {
   "cell_type": "code",
   "execution_count": 101,
   "id": "236000ce",
   "metadata": {},
   "outputs": [
    {
     "data": {
      "image/png": "[encoded data removed]",
      "text/plain": [
       "<Figure size 432x288 with 1 Axes>"
      ]
     },
     "metadata": {
      "needs_background": "light"
     },
     "output_type": "display_data"
    },
    {
     "data": {
      "image/png": "[encoded data removed]",
      "text/plain": [
       "<Figure size 432x288 with 1 Axes>"
      ]
     },
     "metadata": {
      "needs_background": "light"
     },
     "output_type": "display_data"
    }
   ],
   "source": [
    "x1=np.arange(1,11)\n",
    "sns.lineplot(x=x1, y=history1.history['accuracy'])\n",
    "plt.title('model1 accuracy')\n",
    "plt.xlabel('epoch')\n",
    "plt.ylabel('accuracy')\n",
    "plt.show()\n",
    "\n",
    "sns.lineplot(x=x1, y=history1.history['loss'])\n",
    "plt.title('model1 loss')\n",
    "plt.xlabel('epoch')\n",
    "plt.ylabel('loss')\n",
    "plt.show()\n"
   ]
  },
  {
   "cell_type": "code",
   "execution_count": 41,
   "id": "e7d963b5",
   "metadata": {},
   "outputs": [],
   "source": [
    "# Let's create a keras sequential model\n",
    "model2 = Sequential()\n",
    "\n",
    "# # Let's add dense layer to the model network\n",
    "model2.add(Dense(16, input_dim=data_frame.shape[1] - 1, activation=\"tanh\"))\n",
    "model2.add(Dense(8, activation = \"tanh\"))\n",
    "model2.add(Dense(4, activation = \"tanh\"))\n",
    "model2.add(Dense(1, activation = \"sigmoid\"))"
   ]
  },
  {
   "cell_type": "code",
   "execution_count": 42,
   "id": "5a87572e",
   "metadata": {},
   "outputs": [],
   "source": [
    "model2.compile(loss=\"binary_crossentropy\", optimizer=\"adam\", metrics=[\"accuracy\"])"
   ]
  },
  {
   "cell_type": "code",
   "execution_count": 43,
   "id": "20bac673",
   "metadata": {
    "scrolled": true
   },
   "outputs": [
    {
     "name": "stdout",
     "output_type": "stream",
     "text": [
      "Epoch 1/10\n",
      "815/815 [==============================] - 4s 2ms/step - loss: 0.4022 - accuracy: 0.8229\n",
      "Epoch 2/10\n",
      "815/815 [==============================] - 2s 2ms/step - loss: 0.2635 - accuracy: 0.9041\n",
      "Epoch 3/10\n",
      "815/815 [==============================] - 2s 2ms/step - loss: 0.1868 - accuracy: 0.9424\n",
      "Epoch 4/10\n",
      "815/815 [==============================] - 2s 2ms/step - loss: 0.1298 - accuracy: 0.9641\n",
      "Epoch 5/10\n",
      "815/815 [==============================] - 2s 2ms/step - loss: 0.0965 - accuracy: 0.9783\n",
      "Epoch 6/10\n",
      "815/815 [==============================] - 2s 2ms/step - loss: 0.0724 - accuracy: 0.9868\n",
      "Epoch 7/10\n",
      "815/815 [==============================] - 2s 2ms/step - loss: 0.0575 - accuracy: 0.9878\n",
      "Epoch 8/10\n",
      "815/815 [==============================] - 2s 2ms/step - loss: 0.0484 - accuracy: 0.9906\n",
      "Epoch 9/10\n",
      "815/815 [==============================] - 2s 3ms/step - loss: 0.0435 - accuracy: 0.9908\n",
      "Epoch 10/10\n",
      "815/815 [==============================] - 2s 3ms/step - loss: 0.0406 - accuracy: 0.9908\n"
     ]
    }
   ],
   "source": [
    "history2 = model2.fit(x_data, y_data, epochs=10, verbose=1)"
   ]
  },
  {
   "cell_type": "code",
   "execution_count": 36,
   "id": "61de5f25",
   "metadata": {
    "scrolled": true
   },
   "outputs": [
    {
     "data": {
      "image/png": "[encoded data removed]",
      "text/plain": [
       "<Figure size 432x288 with 1 Axes>"
      ]
     },
     "metadata": {
      "needs_background": "light"
     },
     "output_type": "display_data"
    },
    {
     "data": {
      "image/png": "[encoded data removed]",
      "text/plain": [
       "<Figure size 432x288 with 1 Axes>"
      ]
     },
     "metadata": {
      "needs_background": "light"
     },
     "output_type": "display_data"
    }
   ],
   "source": [
    "sns.lineplot(x=x, y=history2.history['accuracy'])\n",
    "plt.title('model2 accuracy')\n",
    "plt.xlabel('epoch')\n",
    "plt.ylabel('accuracy')\n",
    "plt.show()\n",
    "\n",
    "sns.lineplot(x=x, y=history2.history['loss'])\n",
    "plt.title('model2 loss')\n",
    "plt.xlabel('epoch')\n",
    "plt.ylabel('loss')\n",
    "plt.show()"
   ]
  },
  {
   "cell_type": "code",
   "execution_count": 68,
   "id": "17a53c68",
   "metadata": {},
   "outputs": [],
   "source": [
    "# Let's create a keras sequential model\n",
    "model3 = Sequential()\n",
    "\n",
    " # Let's add dense layer to the model network\n",
    "model3.add(Dense(32, input_dim=data_frame.shape[1] - 1, activation=\"relu\"))\n",
    "model3.add(Dense(26, activation = \"relu\"))\n",
    "model3.add(Dense(19, activation = \"relu\"))\n",
    "model3.add(Dense(8, activation = \"relu\"))\n",
    "model3.add(Dense(1, activation = \"sigmoid\"))\n"
   ]
  },
  {
   "cell_type": "code",
   "execution_count": 69,
   "id": "3f0f029f",
   "metadata": {},
   "outputs": [],
   "source": [
    "model3.compile(loss=\"binary_crossentropy\", optimizer=\"adam\", metrics=[\"accuracy\"])"
   ]
  },
  {
   "cell_type": "code",
   "execution_count": 70,
   "id": "3d927d42",
   "metadata": {},
   "outputs": [
    {
     "name": "stdout",
     "output_type": "stream",
     "text": [
      "Epoch 1/10\n",
      "815/815 [==============================] - 4s 3ms/step - loss: 0.2642 - accuracy: 0.8980\n",
      "Epoch 2/10\n",
      "815/815 [==============================] - 2s 3ms/step - loss: 0.0563 - accuracy: 0.9837\n",
      "Epoch 3/10\n",
      "815/815 [==============================] - 2s 3ms/step - loss: 0.0042 - accuracy: 1.0000\n",
      "Epoch 4/10\n",
      "815/815 [==============================] - 2s 3ms/step - loss: 7.0685e-04 - accuracy: 1.0000\n",
      "Epoch 5/10\n",
      "815/815 [==============================] - 2s 3ms/step - loss: 2.4801e-04 - accuracy: 1.0000\n",
      "Epoch 6/10\n",
      "815/815 [==============================] - 2s 3ms/step - loss: 1.1090e-04 - accuracy: 1.0000\n",
      "Epoch 7/10\n",
      "815/815 [==============================] - 2s 3ms/step - loss: 5.6576e-05 - accuracy: 1.0000\n",
      "Epoch 8/10\n",
      "815/815 [==============================] - 2s 3ms/step - loss: 3.0589e-05 - accuracy: 1.0000\n",
      "Epoch 9/10\n",
      "815/815 [==============================] - 2s 3ms/step - loss: 1.7120e-05 - accuracy: 1.0000\n",
      "Epoch 10/10\n",
      "815/815 [==============================] - 2s 3ms/step - loss: 9.9195e-06 - accuracy: 1.0000\n"
     ]
    }
   ],
   "source": [
    "history3 = model3.fit(x_data, y_data, epochs=10, verbose=1)"
   ]
  },
  {
   "cell_type": "code",
   "execution_count": 71,
   "id": "3b3b3124",
   "metadata": {
    "scrolled": true
   },
   "outputs": [
    {
     "data": {
      "image/png": "[encoded data removed]",
      "text/plain": [
       "<Figure size 432x288 with 1 Axes>"
      ]
     },
     "metadata": {
      "needs_background": "light"
     },
     "output_type": "display_data"
    },
    {
     "data": {
      "image/png": "[encoded data removed]",
      "text/plain": [
       "<Figure size 432x288 with 1 Axes>"
      ]
     },
     "metadata": {
      "needs_background": "light"
     },
     "output_type": "display_data"
    }
   ],
   "source": [
    "sns.lineplot(x=x, y=history3.history['accuracy'])\n",
    "plt.title('model3 accuracy')\n",
    "plt.xlabel('epoch')\n",
    "plt.ylabel('accuracy')\n",
    "plt.show()\n",
    "\n",
    "sns.lineplot(x=x, y=history3.history['loss'])\n",
    "plt.title('model3 loss')\n",
    "plt.xlabel('epoch')\n",
    "plt.ylabel('loss')\n",
    "plt.show()"
   ]
  },
  {
   "cell_type": "markdown",
   "id": "7b774fde",
   "metadata": {},
   "source": [
    " <br></br>\n",
    "<h2><b>Phase 3: Model selection & evaluation</b></h2>"
   ]
  },
  {
   "cell_type": "markdown",
   "id": "5eae7fb3-37c9-40b2-ac88-ec0dba2dc8ef",
   "metadata": {},
   "source": [
    "<b>Shuffling the Data</b>"
   ]
  },
  {
   "cell_type": "code",
   "execution_count": 72,
   "id": "72729f00",
   "metadata": {},
   "outputs": [
    {
     "data": {
      "text/html": [
       "<div>\n",
       "<style scoped>\n",
       "    .dataframe tbody tr th:only-of-type {\n",
       "        vertical-align: middle;\n",
       "    }\n",
       "\n",
       "    .dataframe tbody tr th {\n",
       "        vertical-align: top;\n",
       "    }\n",
       "\n",
       "    .dataframe thead th {\n",
       "        text-align: right;\n",
       "    }\n",
       "</style>\n",
       "<table border=\"1\" class=\"dataframe\">\n",
       "  <thead>\n",
       "    <tr style=\"text-align: right;\">\n",
       "      <th></th>\n",
       "      <th>age</th>\n",
       "      <th>sex</th>\n",
       "      <th>cp</th>\n",
       "      <th>trestbps</th>\n",
       "      <th>chol</th>\n",
       "      <th>fbs</th>\n",
       "      <th>restecg</th>\n",
       "      <th>thalach</th>\n",
       "      <th>exang</th>\n",
       "      <th>oldpeak</th>\n",
       "      <th>slope</th>\n",
       "      <th>ca</th>\n",
       "      <th>thal</th>\n",
       "      <th>target</th>\n",
       "    </tr>\n",
       "  </thead>\n",
       "  <tbody>\n",
       "    <tr>\n",
       "      <th>0</th>\n",
       "      <td>1.207622</td>\n",
       "      <td>0.999981</td>\n",
       "      <td>0.042412</td>\n",
       "      <td>0.250571</td>\n",
       "      <td>1.407764</td>\n",
       "      <td>2.381398</td>\n",
       "      <td>-1.000702</td>\n",
       "      <td>0.103071</td>\n",
       "      <td>-0.696860</td>\n",
       "      <td>-0.891967</td>\n",
       "      <td>0.973638</td>\n",
       "      <td>1.265059</td>\n",
       "      <td>-0.527483</td>\n",
       "      <td>0.0</td>\n",
       "    </tr>\n",
       "    <tr>\n",
       "      <th>1</th>\n",
       "      <td>-1.820605</td>\n",
       "      <td>0.999981</td>\n",
       "      <td>-0.935615</td>\n",
       "      <td>0.477881</td>\n",
       "      <td>-1.147815</td>\n",
       "      <td>-0.419905</td>\n",
       "      <td>-1.000702</td>\n",
       "      <td>-0.246795</td>\n",
       "      <td>1.434953</td>\n",
       "      <td>2.539527</td>\n",
       "      <td>0.973638</td>\n",
       "      <td>1.265059</td>\n",
       "      <td>1.125770</td>\n",
       "      <td>0.0</td>\n",
       "    </tr>\n",
       "    <tr>\n",
       "      <th>2</th>\n",
       "      <td>0.483481</td>\n",
       "      <td>0.999981</td>\n",
       "      <td>-0.935615</td>\n",
       "      <td>-1.454257</td>\n",
       "      <td>-0.450839</td>\n",
       "      <td>-0.419905</td>\n",
       "      <td>0.901566</td>\n",
       "      <td>-0.334262</td>\n",
       "      <td>-0.696860</td>\n",
       "      <td>-0.634605</td>\n",
       "      <td>0.973638</td>\n",
       "      <td>1.265059</td>\n",
       "      <td>-0.527483</td>\n",
       "      <td>1.0</td>\n",
       "    </tr>\n",
       "    <tr>\n",
       "      <th>3</th>\n",
       "      <td>0.483481</td>\n",
       "      <td>0.999981</td>\n",
       "      <td>-0.935615</td>\n",
       "      <td>-1.226946</td>\n",
       "      <td>1.717531</td>\n",
       "      <td>-0.419905</td>\n",
       "      <td>0.901566</td>\n",
       "      <td>-0.290528</td>\n",
       "      <td>1.434953</td>\n",
       "      <td>1.681653</td>\n",
       "      <td>-0.648345</td>\n",
       "      <td>0.276250</td>\n",
       "      <td>1.125770</td>\n",
       "      <td>0.0</td>\n",
       "    </tr>\n",
       "    <tr>\n",
       "      <th>4</th>\n",
       "      <td>-1.293957</td>\n",
       "      <td>0.999981</td>\n",
       "      <td>-0.935615</td>\n",
       "      <td>0.477881</td>\n",
       "      <td>-0.141072</td>\n",
       "      <td>-0.419905</td>\n",
       "      <td>0.901566</td>\n",
       "      <td>0.452938</td>\n",
       "      <td>-0.696860</td>\n",
       "      <td>0.137481</td>\n",
       "      <td>0.973638</td>\n",
       "      <td>-0.712559</td>\n",
       "      <td>-0.527483</td>\n",
       "      <td>1.0</td>\n",
       "    </tr>\n",
       "    <tr>\n",
       "      <th>5</th>\n",
       "      <td>-0.372322</td>\n",
       "      <td>0.999981</td>\n",
       "      <td>0.042412</td>\n",
       "      <td>0.477881</td>\n",
       "      <td>-0.992931</td>\n",
       "      <td>-0.419905</td>\n",
       "      <td>0.901566</td>\n",
       "      <td>1.283871</td>\n",
       "      <td>-0.696860</td>\n",
       "      <td>-0.891967</td>\n",
       "      <td>0.973638</td>\n",
       "      <td>1.265059</td>\n",
       "      <td>-0.527483</td>\n",
       "      <td>1.0</td>\n",
       "    </tr>\n",
       "    <tr>\n",
       "      <th>6</th>\n",
       "      <td>-0.964802</td>\n",
       "      <td>-0.999981</td>\n",
       "      <td>-0.935615</td>\n",
       "      <td>2.750985</td>\n",
       "      <td>1.562648</td>\n",
       "      <td>-0.419905</td>\n",
       "      <td>2.803834</td>\n",
       "      <td>-1.427594</td>\n",
       "      <td>1.434953</td>\n",
       "      <td>2.024803</td>\n",
       "      <td>-0.648345</td>\n",
       "      <td>-0.712559</td>\n",
       "      <td>-0.527483</td>\n",
       "      <td>0.0</td>\n",
       "    </tr>\n",
       "    <tr>\n",
       "      <th>7</th>\n",
       "      <td>-0.240660</td>\n",
       "      <td>0.999981</td>\n",
       "      <td>-0.935615</td>\n",
       "      <td>0.477881</td>\n",
       "      <td>-0.392757</td>\n",
       "      <td>-0.419905</td>\n",
       "      <td>0.901566</td>\n",
       "      <td>1.240137</td>\n",
       "      <td>-0.696860</td>\n",
       "      <td>-0.891967</td>\n",
       "      <td>0.973638</td>\n",
       "      <td>-0.712559</td>\n",
       "      <td>-0.527483</td>\n",
       "      <td>1.0</td>\n",
       "    </tr>\n",
       "    <tr>\n",
       "      <th>8</th>\n",
       "      <td>1.339284</td>\n",
       "      <td>0.999981</td>\n",
       "      <td>-0.935615</td>\n",
       "      <td>0.477881</td>\n",
       "      <td>-0.567001</td>\n",
       "      <td>-0.419905</td>\n",
       "      <td>0.901566</td>\n",
       "      <td>-1.689994</td>\n",
       "      <td>1.434953</td>\n",
       "      <td>3.912125</td>\n",
       "      <td>-2.270329</td>\n",
       "      <td>-0.712559</td>\n",
       "      <td>1.125770</td>\n",
       "      <td>0.0</td>\n",
       "    </tr>\n",
       "    <tr>\n",
       "      <th>9</th>\n",
       "      <td>0.154326</td>\n",
       "      <td>-0.999981</td>\n",
       "      <td>1.020439</td>\n",
       "      <td>-0.090395</td>\n",
       "      <td>-0.005549</td>\n",
       "      <td>2.381398</td>\n",
       "      <td>-1.000702</td>\n",
       "      <td>1.021471</td>\n",
       "      <td>-0.696860</td>\n",
       "      <td>-0.891967</td>\n",
       "      <td>0.973638</td>\n",
       "      <td>2.253869</td>\n",
       "      <td>-0.527483</td>\n",
       "      <td>1.0</td>\n",
       "    </tr>\n",
       "  </tbody>\n",
       "</table>\n",
       "</div>"
      ],
      "text/plain": [
       "        age       sex        cp  trestbps      chol       fbs   restecg  \\\n",
       "0  1.207622  0.999981  0.042412  0.250571  1.407764  2.381398 -1.000702   \n",
       "1 -1.820605  0.999981 -0.935615  0.477881 -1.147815 -0.419905 -1.000702   \n",
       "2  0.483481  0.999981 -0.935615 -1.454257 -0.450839 -0.419905  0.901566   \n",
       "3  0.483481  0.999981 -0.935615 -1.226946  1.717531 -0.419905  0.901566   \n",
       "4 -1.293957  0.999981 -0.935615  0.477881 -0.141072 -0.419905  0.901566   \n",
       "5 -0.372322  0.999981  0.042412  0.477881 -0.992931 -0.419905  0.901566   \n",
       "6 -0.964802 -0.999981 -0.935615  2.750985  1.562648 -0.419905  2.803834   \n",
       "7 -0.240660  0.999981 -0.935615  0.477881 -0.392757 -0.419905  0.901566   \n",
       "8  1.339284  0.999981 -0.935615  0.477881 -0.567001 -0.419905  0.901566   \n",
       "9  0.154326 -0.999981  1.020439 -0.090395 -0.005549  2.381398 -1.000702   \n",
       "\n",
       "    thalach     exang   oldpeak     slope        ca      thal  target  \n",
       "0  0.103071 -0.696860 -0.891967  0.973638  1.265059 -0.527483     0.0  \n",
       "1 -0.246795  1.434953  2.539527  0.973638  1.265059  1.125770     0.0  \n",
       "2 -0.334262 -0.696860 -0.634605  0.973638  1.265059 -0.527483     1.0  \n",
       "3 -0.290528  1.434953  1.681653 -0.648345  0.276250  1.125770     0.0  \n",
       "4  0.452938 -0.696860  0.137481  0.973638 -0.712559 -0.527483     1.0  \n",
       "5  1.283871 -0.696860 -0.891967  0.973638  1.265059 -0.527483     1.0  \n",
       "6 -1.427594  1.434953  2.024803 -0.648345 -0.712559 -0.527483     0.0  \n",
       "7  1.240137 -0.696860 -0.891967  0.973638 -0.712559 -0.527483     1.0  \n",
       "8 -1.689994  1.434953  3.912125 -2.270329 -0.712559  1.125770     0.0  \n",
       "9  1.021471 -0.696860 -0.891967  0.973638  2.253869 -0.527483     1.0  "
      ]
     },
     "execution_count": 72,
     "metadata": {},
     "output_type": "execute_result"
    }
   ],
   "source": [
    "data_frame = data_frame.sample(frac=1).reset_index(drop=True)\n",
    "data_frame.head(10)"
   ]
  },
  {
   "cell_type": "markdown",
   "id": "3bd3878c-ff96-4aa3-8d69-1389f8d797fe",
   "metadata": {},
   "source": [
    "<b>Splitting the Data into Training and Validation</b>"
   ]
  },
  {
   "cell_type": "code",
   "execution_count": 81,
   "id": "10c6d97a",
   "metadata": {},
   "outputs": [
    {
     "name": "stdout",
     "output_type": "stream",
     "text": [
      "7817\n"
     ]
    }
   ],
   "source": [
    "index_30percent = int(0.3 * len(data_frame.iloc[:, 0].values))\n",
    "print(index_30percent)\n",
    "\n",
    "XVALIDATION = x_data[:index_30percent, :-1]\n",
    "YVALIDATION = y_data[:index_30percent]\n",
    "\n",
    "XTRAIN = x_data[index_30percent:, :-1]\n",
    "YTRAIN = y_data[index_30percent:]"
   ]
  },
  {
   "cell_type": "markdown",
   "id": "0565afcf-6111-4e2f-9976-0dcbb44afd8c",
   "metadata": {},
   "source": [
    "<b>Creating a model with single layer and neuron architecture</b>"
   ]
  },
  {
   "cell_type": "code",
   "execution_count": 82,
   "id": "d8803484",
   "metadata": {},
   "outputs": [],
   "source": [
    "training_model3 = Sequential()\n",
    "\n",
    "training_model3.add(Dense(1, input_dim=XTRAIN.shape[1], activation = \"relu\"))"
   ]
  },
  {
   "cell_type": "code",
   "execution_count": 83,
   "id": "7ce6ce7e",
   "metadata": {},
   "outputs": [],
   "source": [
    "training_model3.compile(loss=\"binary_crossentropy\", optimizer = \"adam\", metrics = [\"accuracy\"])\n",
    "\n",
    "# Define checkpoint callback\n",
    "checkpoint_callback = ModelCheckpoint(\"best_model.hdf5\", monitor='val_loss', verbose=1, save_best_only=True, mode='min')"
   ]
  },
  {
   "cell_type": "code",
   "execution_count": 84,
   "id": "1b2cfa60",
   "metadata": {},
   "outputs": [
    {
     "name": "stdout",
     "output_type": "stream",
     "text": [
      "Epoch 1/10\n",
      "547/571 [===========================>..] - ETA: 0s - loss: 6.0044 - accuracy: 0.4862\n",
      "Epoch 1: val_loss improved from inf to 5.75235, saving model to best_model.hdf5\n",
      "571/571 [==============================] - 2s 2ms/step - loss: 5.9926 - accuracy: 0.4876 - val_loss: 5.7523 - val_accuracy: 0.5091\n",
      "Epoch 2/10\n",
      "550/571 [===========================>..] - ETA: 0s - loss: 5.4578 - accuracy: 0.5305\n",
      "Epoch 2: val_loss improved from 5.75235 to 5.39494, saving model to best_model.hdf5\n",
      "571/571 [==============================] - 1s 2ms/step - loss: 5.4377 - accuracy: 0.5324 - val_loss: 5.3949 - val_accuracy: 0.5341\n",
      "Epoch 3/10\n",
      "529/571 [==========================>...] - ETA: 0s - loss: 4.9467 - accuracy: 0.5663\n",
      "Epoch 3: val_loss improved from 5.39494 to 4.63080, saving model to best_model.hdf5\n",
      "571/571 [==============================] - 1s 2ms/step - loss: 4.9274 - accuracy: 0.5677 - val_loss: 4.6308 - val_accuracy: 0.5795\n",
      "Epoch 4/10\n",
      "543/571 [===========================>..] - ETA: 0s - loss: 4.3538 - accuracy: 0.6036\n",
      "Epoch 4: val_loss improved from 4.63080 to 4.33543, saving model to best_model.hdf5\n",
      "571/571 [==============================] - 1s 2ms/step - loss: 4.3573 - accuracy: 0.6030 - val_loss: 4.3354 - val_accuracy: 0.6070\n",
      "Epoch 5/10\n",
      "551/571 [===========================>..] - ETA: 0s - loss: 4.1304 - accuracy: 0.6163\n",
      "Epoch 5: val_loss improved from 4.33543 to 4.02605, saving model to best_model.hdf5\n",
      "571/571 [==============================] - 1s 2ms/step - loss: 4.1129 - accuracy: 0.6171 - val_loss: 4.0261 - val_accuracy: 0.6265\n",
      "Epoch 6/10\n",
      "555/571 [============================>.] - ETA: 0s - loss: 3.7762 - accuracy: 0.6421\n",
      "Epoch 6: val_loss improved from 4.02605 to 3.88498, saving model to best_model.hdf5\n",
      "571/571 [==============================] - 1s 2ms/step - loss: 3.7707 - accuracy: 0.6422 - val_loss: 3.8850 - val_accuracy: 0.6464\n",
      "Epoch 7/10\n",
      "562/571 [============================>.] - ETA: 0s - loss: 3.6096 - accuracy: 0.6548\n",
      "Epoch 7: val_loss improved from 3.88498 to 3.76372, saving model to best_model.hdf5\n",
      "571/571 [==============================] - 1s 2ms/step - loss: 3.6086 - accuracy: 0.6550 - val_loss: 3.7637 - val_accuracy: 0.6561\n",
      "Epoch 8/10\n",
      "560/571 [============================>.] - ETA: 0s - loss: 3.4954 - accuracy: 0.6669\n",
      "Epoch 8: val_loss improved from 3.76372 to 3.65406, saving model to best_model.hdf5\n",
      "571/571 [==============================] - 1s 2ms/step - loss: 3.4984 - accuracy: 0.6672 - val_loss: 3.6541 - val_accuracy: 0.6627\n",
      "Epoch 9/10\n",
      "549/571 [===========================>..] - ETA: 0s - loss: 3.3959 - accuracy: 0.6761\n",
      "Epoch 9: val_loss improved from 3.65406 to 3.51645, saving model to best_model.hdf5\n",
      "571/571 [==============================] - 1s 2ms/step - loss: 3.3864 - accuracy: 0.6768 - val_loss: 3.5165 - val_accuracy: 0.6757\n",
      "Epoch 10/10\n",
      "569/571 [============================>.] - ETA: 0s - loss: 3.2948 - accuracy: 0.6840\n",
      "Epoch 10: val_loss improved from 3.51645 to 3.39552, saving model to best_model.hdf5\n",
      "571/571 [==============================] - 1s 2ms/step - loss: 3.2948 - accuracy: 0.6838 - val_loss: 3.3955 - val_accuracy: 0.6899\n"
     ]
    }
   ],
   "source": [
    "history3 = training_model3.fit(XTRAIN, YTRAIN, epochs=10, validation_data=(XVALIDATION, YVALIDATION), callbacks=[checkpoint_callback],verbose=1)"
   ]
  },
  {
   "cell_type": "code",
   "execution_count": 106,
   "id": "82da405c",
   "metadata": {},
   "outputs": [
    {
     "data": {
      "image/png": "[encoded data removed]",
      "text/plain": [
       "<Figure size 1152x720 with 4 Axes>"
      ]
     },
     "metadata": {
      "needs_background": "light"
     },
     "output_type": "display_data"
    }
   ],
   "source": [
    "\n",
    "# create subplots\n",
    "fig, axs = plt.subplots(2, 2, figsize=(16, 10))\n",
    "\n",
    "# plot accuracy\n",
    "sns.lineplot(x=np.arange(1, 11), y=history3.history['accuracy'], ax=axs[0, 0])\n",
    "axs[0, 0].set_title('training_model3 Accuracy')\n",
    "axs[0, 0].set_xlabel('Epoch')\n",
    "axs[0, 0].set_ylabel('Accuracy')\n",
    "\n",
    "# plot loss\n",
    "sns.lineplot(x=np.arange(1, 11), y=history3.history['loss'], ax=axs[0, 1])\n",
    "axs[0, 1].set_title('training_model3 Loss')\n",
    "axs[0, 1].set_xlabel('Epoch')\n",
    "axs[0, 1].set_ylabel('Loss')\n",
    "\n",
    "# plot validation loss\n",
    "sns.lineplot(x=np.arange(1, 11), y=history3.history['val_loss'], ax=axs[1, 0])\n",
    "axs[1, 0].set_title('training_model3 Validation Loss')\n",
    "axs[1, 0].set_xlabel('Epoch')\n",
    "axs[1, 0].set_ylabel('Validation Loss')\n",
    "\n",
    "# plot validation accuracy\n",
    "sns.lineplot(x=np.arange(1, 11), y=history3.history['val_accuracy'], ax=axs[1, 1])\n",
    "axs[1, 1].set_title('training_model3 Validation Accuracy')\n",
    "axs[1, 1].set_xlabel('Epoch')\n",
    "axs[1, 1].set_ylabel('Validation Accuracy')\n",
    "\n",
    "# adjust layout and show plot\n",
    "plt.tight_layout()\n",
    "plt.savefig(\"training-model3_acc&loss\")\n",
    "plt.show()\n"
   ]
  },
  {
   "cell_type": "code",
   "execution_count": 86,
   "id": "f487bd1e-b353-421c-bc6f-c6c6145b8162",
   "metadata": {},
   "outputs": [
    {
     "name": "stdout",
     "output_type": "stream",
     "text": [
      "245/245 [==============================] - 0s 947us/step\n"
     ]
    },
    {
     "data": {
      "image/png": "[encoded data removed]",
      "text/plain": [
       "<Figure size 432x288 with 1 Axes>"
      ]
     },
     "metadata": {
      "needs_background": "light"
     },
     "output_type": "display_data"
    }
   ],
   "source": [
    "from sklearn.metrics import roc_curve, auc\n",
    "import matplotlib.pyplot as plt\n",
    "\n",
    "\n",
    "fpr, tpr, thresholds = roc_curve(YVALIDATION, training_model3.predict(XVALIDATION))\n",
    "\n",
    "roc_auc = auc(fpr, tpr)\n",
    "\n",
    "plt.plot(fpr, tpr, color='darkred', lw=2, label='ROC curve (AUC = %0.2f)' % roc_auc)\n",
    "plt.plot([0, 1], [0, 1], color='navy', lw=2, linestyle='--')\n",
    "plt.xlabel('False Positive Rate')\n",
    "plt.ylabel('True Positive Rate')\n",
    "plt.title('Training model 3 (ROC) curve')\n",
    "plt.legend(loc=\"lower right\")\n",
    "plt.savefig(\"ROC_1\")\n",
    "plt.show()"
   ]
  },
  {
   "cell_type": "code",
   "execution_count": 87,
   "id": "859b7989-542b-42a4-9379-721cd944f9b7",
   "metadata": {},
   "outputs": [
    {
     "name": "stdout",
     "output_type": "stream",
     "text": [
      "245/245 [==============================] - 0s 914us/step\n",
      "Precision:  0.7350173353145122\n",
      "Recall:  0.6867191115224434\n",
      "F1 score:  0.7100478468899523\n"
     ]
    }
   ],
   "source": [
    "from sklearn.metrics import precision_score, recall_score, f1_score\n",
    "\n",
    "# Train the model and obtain predictions on the validation data\n",
    "y_pred = training_model3.predict(XVALIDATION)\n",
    "\n",
    "# Apply a threshold of 0.5 to convert output values to binary\n",
    "y_pred_binary = (y_pred >= 0.5).astype(int)\n",
    "\n",
    "# Calculate precision, recall, and F1 score\n",
    "precision = precision_score(YVALIDATION, y_pred_binary)\n",
    "recall = recall_score(YVALIDATION, y_pred_binary)\n",
    "f1 = f1_score(YVALIDATION, y_pred_binary)\n",
    "\n",
    "print(\"Precision: \", precision)\n",
    "print(\"Recall: \", recall)\n",
    "print(\"F1 score: \", f1)"
   ]
  },
  {
   "cell_type": "code",
   "execution_count": 88,
   "id": "e5d1970f",
   "metadata": {},
   "outputs": [],
   "source": [
    "training_model4 = Sequential()\n",
    "\n",
    "training_model4.add(Dense(8, input_dim=XTRAIN.shape[1], activation = \"relu\"))\n",
    "training_model4.add(Dense(4, activation = \"relu\"))\n",
    "training_model4.add(Dense(1, activation = \"sigmoid\"))"
   ]
  },
  {
   "cell_type": "code",
   "execution_count": 89,
   "id": "a87c6024",
   "metadata": {},
   "outputs": [
    {
     "data": {
      "text/plain": [
       "((18241, 12), (7817, 12))"
      ]
     },
     "execution_count": 89,
     "metadata": {},
     "output_type": "execute_result"
    }
   ],
   "source": [
    "XTRAIN.shape, XVALIDATION.shape"
   ]
  },
  {
   "cell_type": "code",
   "execution_count": 90,
   "id": "fb2906b8",
   "metadata": {},
   "outputs": [],
   "source": [
    "training_model4.compile(loss=\"binary_crossentropy\", optimizer = \"adam\", metrics = [\"accuracy\"])\n",
    "\n",
    "# Define checkpoint callback\n",
    "checkpoint_callback = ModelCheckpoint(\"best_model.hdf5\", monitor='val_loss', verbose=1, save_best_only=True, mode='min')"
   ]
  },
  {
   "cell_type": "code",
   "execution_count": 91,
   "id": "aa915921",
   "metadata": {},
   "outputs": [
    {
     "name": "stdout",
     "output_type": "stream",
     "text": [
      "Epoch 1/10\n",
      "556/571 [============================>.] - ETA: 0s - loss: 0.4812 - accuracy: 0.7653\n",
      "Epoch 1: val_loss improved from inf to 0.38803, saving model to best_model.hdf5\n",
      "571/571 [==============================] - 2s 2ms/step - loss: 0.4782 - accuracy: 0.7672 - val_loss: 0.3880 - val_accuracy: 0.8222\n",
      "Epoch 2/10\n",
      "548/571 [===========================>..] - ETA: 0s - loss: 0.3683 - accuracy: 0.8338\n",
      "Epoch 2: val_loss improved from 0.38803 to 0.34247, saving model to best_model.hdf5\n",
      "571/571 [==============================] - 1s 2ms/step - loss: 0.3666 - accuracy: 0.8349 - val_loss: 0.3425 - val_accuracy: 0.8462\n",
      "Epoch 3/10\n",
      "538/571 [===========================>..] - ETA: 0s - loss: 0.3287 - accuracy: 0.8567\n",
      "Epoch 3: val_loss improved from 0.34247 to 0.30985, saving model to best_model.hdf5\n",
      "571/571 [==============================] - 1s 2ms/step - loss: 0.3284 - accuracy: 0.8571 - val_loss: 0.3099 - val_accuracy: 0.8659\n",
      "Epoch 4/10\n",
      "542/571 [===========================>..] - ETA: 0s - loss: 0.3007 - accuracy: 0.8709\n",
      "Epoch 4: val_loss improved from 0.30985 to 0.28332, saving model to best_model.hdf5\n",
      "571/571 [==============================] - 1s 2ms/step - loss: 0.3001 - accuracy: 0.8715 - val_loss: 0.2833 - val_accuracy: 0.8863\n",
      "Epoch 5/10\n",
      "542/571 [===========================>..] - ETA: 0s - loss: 0.2763 - accuracy: 0.8877\n",
      "Epoch 5: val_loss improved from 0.28332 to 0.26035, saving model to best_model.hdf5\n",
      "571/571 [==============================] - 1s 2ms/step - loss: 0.2758 - accuracy: 0.8884 - val_loss: 0.2603 - val_accuracy: 0.9007\n",
      "Epoch 6/10\n",
      "537/571 [===========================>..] - ETA: 0s - loss: 0.2570 - accuracy: 0.9015\n",
      "Epoch 6: val_loss improved from 0.26035 to 0.24304, saving model to best_model.hdf5\n",
      "571/571 [==============================] - 1s 2ms/step - loss: 0.2557 - accuracy: 0.9016 - val_loss: 0.2430 - val_accuracy: 0.9081\n",
      "Epoch 7/10\n",
      "539/571 [===========================>..] - ETA: 0s - loss: 0.2390 - accuracy: 0.9031\n",
      "Epoch 7: val_loss improved from 0.24304 to 0.22756, saving model to best_model.hdf5\n",
      "571/571 [==============================] - 1s 2ms/step - loss: 0.2390 - accuracy: 0.9027 - val_loss: 0.2276 - val_accuracy: 0.9042\n",
      "Epoch 8/10\n",
      "571/571 [==============================] - ETA: 0s - loss: 0.2253 - accuracy: 0.9031\n",
      "Epoch 8: val_loss improved from 0.22756 to 0.21643, saving model to best_model.hdf5\n",
      "571/571 [==============================] - 1s 2ms/step - loss: 0.2253 - accuracy: 0.9031 - val_loss: 0.2164 - val_accuracy: 0.9053\n",
      "Epoch 9/10\n",
      "558/571 [============================>.] - ETA: 0s - loss: 0.2147 - accuracy: 0.9059\n",
      "Epoch 9: val_loss improved from 0.21643 to 0.20649, saving model to best_model.hdf5\n",
      "571/571 [==============================] - 1s 2ms/step - loss: 0.2158 - accuracy: 0.9054 - val_loss: 0.2065 - val_accuracy: 0.9165\n",
      "Epoch 10/10\n",
      "549/571 [===========================>..] - ETA: 0s - loss: 0.2059 - accuracy: 0.9113\n",
      "Epoch 10: val_loss improved from 0.20649 to 0.19696, saving model to best_model.hdf5\n",
      "571/571 [==============================] - 1s 2ms/step - loss: 0.2060 - accuracy: 0.9114 - val_loss: 0.1970 - val_accuracy: 0.9140\n"
     ]
    }
   ],
   "source": [
    "history4 = training_model4.fit(XTRAIN, YTRAIN, epochs=10, validation_data=(XVALIDATION, YVALIDATION), callbacks=[checkpoint_callback],verbose=1)"
   ]
  },
  {
   "cell_type": "code",
   "execution_count": 107,
   "id": "26e240c7",
   "metadata": {},
   "outputs": [
    {
     "data": {
      "image/png": "[encoded data removed]",
      "text/plain": [
       "<Figure size 1152x720 with 4 Axes>"
      ]
     },
     "metadata": {
      "needs_background": "light"
     },
     "output_type": "display_data"
    }
   ],
   "source": [
    "# create subplots\n",
    "fig, axs = plt.subplots(2, 2, figsize=(16, 10))\n",
    "\n",
    "# plot accuracy\n",
    "sns.lineplot(x=np.arange(1, 11), y=history4.history['accuracy'], ax=axs[0, 0])\n",
    "axs[0, 0].set_title('training_model4 Accuracy')\n",
    "axs[0, 0].set_xlabel('Epoch')\n",
    "axs[0, 0].set_ylabel('Accuracy')\n",
    "\n",
    "# plot loss\n",
    "sns.lineplot(x=np.arange(1, 11), y=history4.history['loss'], ax=axs[0, 1])\n",
    "axs[0, 1].set_title('training_model4 Loss')\n",
    "axs[0, 1].set_xlabel('Epoch')\n",
    "axs[0, 1].set_ylabel('Loss')\n",
    "\n",
    "# plot validation loss\n",
    "sns.lineplot(x=np.arange(1, 11), y=history4.history['val_loss'], ax=axs[1, 0])\n",
    "axs[1, 0].set_title('training_model4 Validation Loss')\n",
    "axs[1, 0].set_xlabel('Epoch')\n",
    "axs[1, 0].set_ylabel('Validation Loss')\n",
    "\n",
    "# plot validation accuracy\n",
    "sns.lineplot(x=np.arange(1, 11), y=history4.history['val_accuracy'], ax=axs[1, 1])\n",
    "axs[1, 1].set_title('training_model4 Validation Accuracy')\n",
    "axs[1, 1].set_xlabel('Epoch')\n",
    "axs[1, 1].set_ylabel('Validation Accuracy')\n",
    "\n",
    "# adjust layout and show plot\n",
    "plt.tight_layout()\n",
    "plt.savefig(\"training-model4_acc&loss\")\n",
    "plt.show()\n"
   ]
  },
  {
   "cell_type": "code",
   "execution_count": 94,
   "id": "25a59f93-dc7e-4bb3-b780-5e9a9eff4c27",
   "metadata": {},
   "outputs": [
    {
     "name": "stdout",
     "output_type": "stream",
     "text": [
      "245/245 [==============================] - 0s 956us/step\n"
     ]
    },
    {
     "data": {
      "image/png": "[encoded data removed]",
      "text/plain": [
       "<Figure size 432x288 with 1 Axes>"
      ]
     },
     "metadata": {
      "needs_background": "light"
     },
     "output_type": "display_data"
    }
   ],
   "source": [
    "from sklearn.metrics import roc_curve, auc\n",
    "import matplotlib.pyplot as plt\n",
    "\n",
    "\n",
    "fpr, tpr, thresholds = roc_curve(YVALIDATION, training_model4.predict(XVALIDATION))\n",
    "\n",
    "roc_auc = auc(fpr, tpr)\n",
    "\n",
    "plt.plot(fpr, tpr, color='darkred', lw=2, label='ROC curve (AUC = %0.2f)' % roc_auc)\n",
    "plt.plot([0, 1], [0, 1], color='navy', lw=2, linestyle='--')\n",
    "plt.xlabel('False Positive Rate')\n",
    "plt.ylabel('True Positive Rate')\n",
    "plt.title('Training model 4 (ROC) curve')\n",
    "plt.legend(loc=\"lower right\")\n",
    "plt.savefig(\"ROC_2\")\n",
    "plt.show()"
   ]
  },
  {
   "cell_type": "code",
   "execution_count": 95,
   "id": "e62830e1-8f2b-46c9-b5ce-78b278b3c1b4",
   "metadata": {},
   "outputs": [
    {
     "name": "stdout",
     "output_type": "stream",
     "text": [
      "245/245 [==============================] - 0s 904us/step\n",
      "Precision:  0.891295025728988\n",
      "Recall:  0.9618232299861176\n",
      "F1 score:  0.9252170042288004\n"
     ]
    }
   ],
   "source": [
    "from sklearn.metrics import precision_score, recall_score, f1_score\n",
    "\n",
    "# Train the model and obtain predictions on the validation data\n",
    "y_pred = training_model4.predict(XVALIDATION)\n",
    "\n",
    "# Apply a threshold of 0.5 to convert output values to binary\n",
    "y_pred_binary = (y_pred >= 0.5).astype(int)\n",
    "\n",
    "# Calculate precision, recall, and F1 score\n",
    "precision = precision_score(YVALIDATION, y_pred_binary)\n",
    "recall = recall_score(YVALIDATION, y_pred_binary)\n",
    "f1 = f1_score(YVALIDATION, y_pred_binary)\n",
    "\n",
    "print(\"Precision: \", precision)\n",
    "print(\"Recall: \", recall)\n",
    "print(\"F1 score: \", f1)"
   ]
  },
  {
   "cell_type": "code",
   "execution_count": 96,
   "id": "ff58d1f1",
   "metadata": {},
   "outputs": [],
   "source": [
    "training_model5 = Sequential()\n",
    "\n",
    "training_model5.add(Dense(32, input_dim=XTRAIN.shape[1], activation = \"relu\"))\n",
    "training_model5.add(Dense(16, activation = \"relu\"))\n",
    "training_model5.add(Dense(8, activation = \"relu\"))\n",
    "training_model5.add(Dense(1, activation = \"sigmoid\"))"
   ]
  },
  {
   "cell_type": "code",
   "execution_count": 97,
   "id": "6ff06eda",
   "metadata": {},
   "outputs": [],
   "source": [
    "training_model5.compile(loss=\"binary_crossentropy\", optimizer = \"adam\", metrics = [\"accuracy\"])\n",
    "\n",
    "# Define checkpoint callback\n",
    "checkpoint_callback = ModelCheckpoint(\"best_model.hdf5\", monitor='val_loss', verbose=1, save_best_only=True, mode='min')"
   ]
  },
  {
   "cell_type": "code",
   "execution_count": 98,
   "id": "d56985ad",
   "metadata": {},
   "outputs": [
    {
     "name": "stdout",
     "output_type": "stream",
     "text": [
      "Epoch 1/10\n",
      "571/571 [==============================] - ETA: 0s - loss: 0.3690 - accuracy: 0.8422\n",
      "Epoch 1: val_loss improved from inf to 0.27711, saving model to best_model.hdf5\n",
      "571/571 [==============================] - 2s 2ms/step - loss: 0.3690 - accuracy: 0.8422 - val_loss: 0.2771 - val_accuracy: 0.8916\n",
      "Epoch 2/10\n",
      "548/571 [===========================>..] - ETA: 0s - loss: 0.2365 - accuracy: 0.9061\n",
      "Epoch 2: val_loss improved from 0.27711 to 0.17599, saving model to best_model.hdf5\n",
      "571/571 [==============================] - 1s 2ms/step - loss: 0.2345 - accuracy: 0.9072 - val_loss: 0.1760 - val_accuracy: 0.9326\n",
      "Epoch 3/10\n",
      "547/571 [===========================>..] - ETA: 0s - loss: 0.1365 - accuracy: 0.9488\n",
      "Epoch 3: val_loss improved from 0.17599 to 0.09130, saving model to best_model.hdf5\n",
      "571/571 [==============================] - 1s 2ms/step - loss: 0.1347 - accuracy: 0.9497 - val_loss: 0.0913 - val_accuracy: 0.9662\n",
      "Epoch 4/10\n",
      "556/571 [============================>.] - ETA: 0s - loss: 0.0643 - accuracy: 0.9806\n",
      "Epoch 4: val_loss improved from 0.09130 to 0.03636, saving model to best_model.hdf5\n",
      "571/571 [==============================] - 1s 2ms/step - loss: 0.0636 - accuracy: 0.9809 - val_loss: 0.0364 - val_accuracy: 0.9942\n",
      "Epoch 5/10\n",
      "546/571 [===========================>..] - ETA: 0s - loss: 0.0329 - accuracy: 0.9942\n",
      "Epoch 5: val_loss improved from 0.03636 to 0.01594, saving model to best_model.hdf5\n",
      "571/571 [==============================] - 1s 2ms/step - loss: 0.0321 - accuracy: 0.9944 - val_loss: 0.0159 - val_accuracy: 1.0000\n",
      "Epoch 6/10\n",
      "571/571 [==============================] - ETA: 0s - loss: 0.0106 - accuracy: 1.0000\n",
      "Epoch 6: val_loss improved from 0.01594 to 0.00767, saving model to best_model.hdf5\n",
      "571/571 [==============================] - 1s 2ms/step - loss: 0.0106 - accuracy: 1.0000 - val_loss: 0.0077 - val_accuracy: 1.0000\n",
      "Epoch 7/10\n",
      "551/571 [===========================>..] - ETA: 0s - loss: 0.0052 - accuracy: 1.0000\n",
      "Epoch 7: val_loss improved from 0.00767 to 0.00365, saving model to best_model.hdf5\n",
      "571/571 [==============================] - 1s 2ms/step - loss: 0.0052 - accuracy: 1.0000 - val_loss: 0.0036 - val_accuracy: 1.0000\n",
      "Epoch 8/10\n",
      "564/571 [============================>.] - ETA: 0s - loss: 0.0027 - accuracy: 1.0000\n",
      "Epoch 8: val_loss improved from 0.00365 to 0.00203, saving model to best_model.hdf5\n",
      "571/571 [==============================] - 1s 2ms/step - loss: 0.0027 - accuracy: 1.0000 - val_loss: 0.0020 - val_accuracy: 1.0000\n",
      "Epoch 9/10\n",
      "539/571 [===========================>..] - ETA: 0s - loss: 0.0016 - accuracy: 1.0000\n",
      "Epoch 9: val_loss improved from 0.00203 to 0.00116, saving model to best_model.hdf5\n",
      "571/571 [==============================] - 1s 2ms/step - loss: 0.0016 - accuracy: 1.0000 - val_loss: 0.0012 - val_accuracy: 1.0000\n",
      "Epoch 10/10\n",
      "553/571 [============================>.] - ETA: 0s - loss: 8.9699e-04 - accuracy: 1.0000\n",
      "Epoch 10: val_loss improved from 0.00116 to 0.00066, saving model to best_model.hdf5\n",
      "571/571 [==============================] - 1s 2ms/step - loss: 8.8933e-04 - accuracy: 1.0000 - val_loss: 6.6193e-04 - val_accuracy: 1.0000\n"
     ]
    }
   ],
   "source": [
    "history5 = training_model5.fit(XTRAIN, YTRAIN, epochs=10, validation_data=(XVALIDATION, YVALIDATION), callbacks=[checkpoint_callback],verbose=1)"
   ]
  },
  {
   "cell_type": "code",
   "execution_count": 108,
   "id": "091b6a92",
   "metadata": {},
   "outputs": [
    {
     "data": {
      "image/png": "[encoded data removed]",
      "text/plain": [
       "<Figure size 1152x720 with 4 Axes>"
      ]
     },
     "metadata": {
      "needs_background": "light"
     },
     "output_type": "display_data"
    }
   ],
   "source": [
    "# create subplots\n",
    "fig, axs = plt.subplots(2, 2, figsize=(16, 10))\n",
    "\n",
    "# plot accuracy\n",
    "sns.lineplot(x=np.arange(1, 11), y=history5.history['accuracy'], ax=axs[0, 0])\n",
    "axs[0, 0].set_title('training_model5 Accuracy')\n",
    "axs[0, 0].set_xlabel('Epoch')\n",
    "axs[0, 0].set_ylabel('Accuracy')\n",
    "\n",
    "# plot loss\n",
    "sns.lineplot(x=np.arange(1, 11), y=history5.history['loss'], ax=axs[0, 1])\n",
    "axs[0, 1].set_title('training_model5 Loss')\n",
    "axs[0, 1].set_xlabel('Epoch')\n",
    "axs[0, 1].set_ylabel('Loss')\n",
    "\n",
    "# plot validation loss\n",
    "sns.lineplot(x=np.arange(1, 11), y=history5.history['val_loss'], ax=axs[1, 0])\n",
    "axs[1, 0].set_title('training_model5 Validation Loss')\n",
    "axs[1, 0].set_xlabel('Epoch')\n",
    "axs[1, 0].set_ylabel('Validation Loss')\n",
    "\n",
    "# plot validation accuracy\n",
    "sns.lineplot(x=np.arange(1, 11), y=history5.history['val_accuracy'], ax=axs[1, 1])\n",
    "axs[1, 1].set_title('training_model5 Validation Accuracy')\n",
    "axs[1, 1].set_xlabel('Epoch')\n",
    "axs[1, 1].set_ylabel('Validation Accuracy')\n",
    "\n",
    "# adjust layout and show plot\n",
    "plt.tight_layout()\n",
    "plt.savefig(\"training-model5_acc&loss\")\n",
    "plt.show()"
   ]
  },
  {
   "cell_type": "code",
   "execution_count": 100,
   "id": "9330c6fb-15cc-4f4e-a866-46d00cf19faa",
   "metadata": {},
   "outputs": [
    {
     "name": "stdout",
     "output_type": "stream",
     "text": [
      "245/245 [==============================] - 0s 890us/step\n"
     ]
    },
    {
     "data": {
      "image/png": "[encoded data removed]",
      "text/plain": [
       "<Figure size 432x288 with 1 Axes>"
      ]
     },
     "metadata": {
      "needs_background": "light"
     },
     "output_type": "display_data"
    }
   ],
   "source": [
    "from sklearn.metrics import roc_curve, auc\n",
    "import matplotlib.pyplot as plt\n",
    "\n",
    "\n",
    "fpr, tpr, thresholds = roc_curve(YVALIDATION, training_model5.predict(XVALIDATION))\n",
    "\n",
    "roc_auc = auc(fpr, tpr)\n",
    "\n",
    "plt.plot(fpr, tpr, color='darkred', lw=2, label='ROC curve (AUC = %0.2f)' % roc_auc)\n",
    "plt.plot([0, 1], [0, 1], color='navy', lw=2, linestyle='--')\n",
    "plt.xlabel('False Positive Rate')\n",
    "plt.ylabel('True Positive Rate')\n",
    "plt.title('Training model 5 (ROC) curve')\n",
    "plt.legend(loc=\"lower right\")\n",
    "plt.savefig(\"ROC_3\")\n",
    "plt.show()\n"
   ]
  },
  {
   "cell_type": "code",
   "execution_count": 101,
   "id": "5bbcadc8-fde9-4122-87ca-b0556e208ff0",
   "metadata": {},
   "outputs": [
    {
     "name": "stdout",
     "output_type": "stream",
     "text": [
      "245/245 [==============================] - 0s 920us/step\n",
      "Precision:  1.0\n",
      "Recall:  1.0\n",
      "F1 score:  1.0\n"
     ]
    }
   ],
   "source": [
    "from sklearn.metrics import precision_score, recall_score, f1_score\n",
    "\n",
    "# Train the model and obtain predictions on the validation data\n",
    "y_pred = training_model5.predict(XVALIDATION)\n",
    "\n",
    "# Apply a threshold of 0.5 to convert output values to binary\n",
    "y_pred_binary = (y_pred >= 0.5).astype(int)\n",
    "\n",
    "# Calculate precision, recall, and F1 score\n",
    "precision = precision_score(YVALIDATION, y_pred_binary)\n",
    "recall = recall_score(YVALIDATION, y_pred_binary)\n",
    "f1 = f1_score(YVALIDATION, y_pred_binary)\n",
    "\n",
    "print(\"Precision: \", precision)\n",
    "print(\"Recall: \", recall)\n",
    "print(\"F1 score: \", f1)"
   ]
  },
  {
   "cell_type": "markdown",
   "id": "5e3122e0-c753-48ce-8185-2233828c87cf",
   "metadata": {
    "tags": []
   },
   "source": [
    "<br></br>\n",
    "#### Validation of model predictions with custom prediction function"
   ]
  },
  {
   "cell_type": "code",
   "execution_count": null,
   "id": "6c1db63b-947c-4c76-bdc3-befdcec9a6f6",
   "metadata": {},
   "outputs": [],
   "source": [
    "def rectified(x):\n",
    "    x = np.array(x)\n",
    "    return \n",
    "\n",
    "def sigmoid(x):\n",
    "    x = np.\n",
    "    return "
   ]
  },
  {
   "cell_type": "code",
   "execution_count": 134,
   "id": "8683a3ea-ec0f-4325-acaa-614efcd7662e",
   "metadata": {},
   "outputs": [],
   "source": [
    "from sklearn.metrics import accuracy_score, precision_score, recall_score, f1_score\n",
    "def validate_custom_predictions(display_weight=True):\n",
    "    prediction = XVALIDATION\n",
    "    total_layers = len(training_model5.layers)\n",
    "\n",
    "    for layer_number, layer in enumerate(training_model5.layers):\n",
    "        weights = layer.get_weights()[0].T\n",
    "        biases = layer.get_weights()[1].T\n",
    "        if display_weight:\n",
    "            print(f\"Layer Number --> {layer_number}\")\n",
    "            print(f\"Weights:\\n {weights[0]} ...\")\n",
    "            print(f\"Bias:\\n {biases[:5]}\\n\")\n",
    "        activations = []\n",
    "        for row in prediction:\n",
    "            value = []\n",
    "            for index, w in enumerate(weights):\n",
    "                output = np.dot(w, row) + biases[index]\n",
    "                value.append(output)\n",
    "            value = np.array(value)\n",
    "            if layer_number < total_layers - 1:\n",
    "                activations.append(np.maximum(value, 0))\n",
    "            else:\n",
    "                activations.append(1 / (1 + np.exp(-value)))\n",
    "\n",
    "        prediction = np.array(activations)\n",
    "    prediction = (prediction > 0.5)\n",
    "\n",
    "    accuracy = accuracy_score(YVALIDATION, prediction.round()) * 100.0\n",
    "    precision = precision_score(YVALIDATION, prediction.round()) * 100.0\n",
    "    recall = recall_score(YVALIDATION, prediction.round()) * 100.0\n",
    "    f1score = f1_score(YVALIDATION, prediction.round())\n",
    "\n",
    "    print(f\"Accuracy: {accuracy}\")\n",
    "    print(f\"Precision: {precision}\")\n",
    "    print(f\"Recall: {recall}\")\n",
    "    print(f\"F1-score: {f1score}\")"
   ]
  },
  {
   "cell_type": "code",
   "execution_count": 135,
   "id": "3954800b-3241-4e10-837a-7abf8994d1f7",
   "metadata": {},
   "outputs": [
    {
     "name": "stdout",
     "output_type": "stream",
     "text": [
      "Layer Number --> 0\n",
      "Weights:\n",
      " [-0.00228225 -0.00434497  0.07575062  0.14694512 -0.81314427  0.15120776\n",
      " -0.34427294  0.1109793   0.04918455  0.35041496  0.17780091 -0.80111986] ...\n",
      "Bias:\n",
      " [0.03807744 0.29955584 0.27561697 0.2969449  0.10114086]\n",
      "\n",
      "Layer Number --> 1\n",
      "Weights:\n",
      " [ 0.3297924   0.42576116  0.26464054  0.4267925   0.48778322 -0.10920563\n",
      " -0.37509292  0.3264227  -0.3943856   0.12634625  0.26106814 -0.27535298\n",
      "  0.18139395 -0.1618333   0.19498405 -0.03155609 -0.5648789   0.5687157\n",
      "  0.31115517  0.38497338 -0.23895364 -0.5580694   0.2431829   0.1007553\n",
      " -0.25973254  0.28924254 -0.01708221 -0.05287319  0.2568067   0.09382632\n",
      " -0.38419402 -0.10556412] ...\n",
      "Bias:\n",
      " [ 0.09295365  0.11978044  0.25452018 -0.01587194  0.12657565]\n",
      "\n",
      "Layer Number --> 2\n",
      "Weights:\n",
      " [ 0.59463614 -0.88314116 -0.37345266 -0.75432926  0.4863257  -0.30026636\n",
      "  0.81255406 -0.48526594  0.680678    0.56354237  1.1071556  -0.7106588\n",
      " -0.08341416 -0.01730042  1.370277   -0.08751754] ...\n",
      "Bias:\n",
      " [ 0.14425166  0.18841769  0.22361937  0.33394477 -0.0675595 ]\n",
      "\n",
      "Layer Number --> 3\n",
      "Weights:\n",
      " [ 1.2649837  -0.76886564 -0.9916988  -1.6720474   1.5089263  -1.8524847\n",
      "  0.6070413  -1.4723016 ] ...\n",
      "Bias:\n",
      " [-0.09771136]\n",
      "\n",
      "Accuracy: 100.0\n",
      "Precision: 100.0\n",
      "Recall: 100.0\n",
      "F1-score: 1.0\n"
     ]
    }
   ],
   "source": [
    "validate_custom_predictions()"
   ]
  },
  {
   "cell_type": "markdown",
   "id": "67ed2476-0811-4a60-87be-0cb46c5f1e02",
   "metadata": {},
   "source": [
    "<h2>Observations</h2>"
   ]
  },
  {
   "cell_type": "code",
   "execution_count": null,
   "id": "079c63fd-fe42-4a2f-a221-4441d90ad6cf",
   "metadata": {},
   "outputs": [],
   "source": [
    "1.At the end of training (10th epoch), the model achieves a training loss of 3.2948 and training accuracy of 0.6838. The validation loss is 3.39552, and the validation accuracy is 0.6899.\n",
    "2.The training dataset consists of 571 samples, and there is a separate validation dataset.\n",
    "3.The model starts with a loss of 0.4812 and an accuracy of 0.7653 on the training set.\n",
    "4.At the end of training (10th epoch), the model achieves a training loss of 8.8933e-04 and a training accuracy of 1.0000. The validation loss is 6.6193e-04, and the validation accuracy is 1.0000."
   ]
  },
  {
   "cell_type": "markdown",
   "id": "f873b80d",
   "metadata": {},
   "source": [
    "<h2>Phase 4: Feature importance and reduction</h2>"
   ]
  },
  {
   "cell_type": "code",
   "execution_count": 102,
   "id": "0d43e9dc",
   "metadata": {},
   "outputs": [],
   "source": [
    "training_model5.load_weights(\"best_model.hdf5\")\n"
   ]
  },
  {
   "cell_type": "code",
   "execution_count": 130,
   "id": "01bf38e7",
   "metadata": {},
   "outputs": [],
   "source": [
    "from sklearn import metrics\n",
    "\n",
    "def feature_importance():\n",
    "    # Let's initialize the list to store the feature wise accuracy\n",
    "    feature_accuracy = {}\n",
    "\n",
    "    for index in range(XTRAIN.shape[1]):\n",
    "        # Let's get the values corresponding to the each feature\n",
    "        Train_feature = XTRAIN[:, index]\n",
    "        valid_feature = XVALIDATION[:, index]\n",
    "\n",
    "        single_feature_model = Sequential()\n",
    "        single_feature_model.add(Dense(32, input_dim=1, activation=\"relu\"))\n",
    "        single_feature_model.add(Dense(16, input_dim=1, activation=\"relu\"))\n",
    "        single_feature_model.add(Dense(8, input_dim=1, activation=\"relu\"))\n",
    "        single_feature_model.add(Dense(1, activation=\"sigmoid\"))\n",
    "\n",
    "        # Let's build the model\n",
    "        single_feature_model.compile(loss=\"binary_crossentropy\", optimizer = \"adam\", metrics=[\"accuracy\"])\n",
    "\n",
    "        callback_a = ModelCheckpoint(\"training_model_feature1.hdf5\", monitor=\"val_loss\", save_best_only=True, save_weights_only=True, verbose=0)\n",
    "        print(f\"Fitting Sequencial model on: {data_frame.columns[index]}\")\n",
    "        # Let's fit the sequential model with input features and output label\n",
    "        history = single_feature_model.fit(x=Train_feature, y=YTRAIN, validation_data=(valid_feature, YVALIDATION), epochs=100, batch_size=100, callbacks=[callback_a], verbose=0)\n",
    "        # Let's precit on the validation inputs\n",
    "        Prediction = single_feature_model.predict(valid_feature, verbose=0)\n",
    "        Prediction = (Prediction > 0.5)\n",
    "        accuracy_score = metrics.accuracy_score(YVALIDATION, Prediction)\n",
    "        feature_accuracy[data_frame.columns[index]] = accuracy_score\n",
    "\n",
    "        print(f\"Accuracy score corresponding to {data_frame.columns[index]} --> {accuracy_score}\")\n",
    "        print()\n",
    "    return feature_accuracy"
   ]
  },
  {
   "cell_type": "code",
   "execution_count": 131,
   "id": "c03a287e",
   "metadata": {},
   "outputs": [
    {
     "name": "stdout",
     "output_type": "stream",
     "text": [
      "Let's fit the sequential model on age\n",
      "Accuracy score corresponding to age --> 0.5484201100166304\n",
      "\n",
      "Let's fit the sequential model on sex\n",
      "Accuracy score corresponding to sex --> 0.5484201100166304\n",
      "\n",
      "Let's fit the sequential model on cp\n",
      "Accuracy score corresponding to cp --> 0.7565562236151977\n",
      "\n",
      "Let's fit the sequential model on trestbps\n",
      "Accuracy score corresponding to trestbps --> 0.6173723935013432\n",
      "\n",
      "Let's fit the sequential model on chol\n",
      "Accuracy score corresponding to chol --> 0.6430855827043623\n",
      "\n",
      "Let's fit the sequential model on fbs\n",
      "Accuracy score corresponding to fbs --> 0.5484201100166304\n",
      "\n",
      "Let's fit the sequential model on restecg\n",
      "Accuracy score corresponding to restecg --> 0.5786107202251504\n",
      "\n",
      "Let's fit the sequential model on thalach\n",
      "Accuracy score corresponding to thalach --> 0.7147243187923756\n",
      "\n",
      "Let's fit the sequential model on exang\n",
      "Accuracy score corresponding to exang --> 0.7254701292055776\n",
      "\n",
      "Let's fit the sequential model on oldpeak\n",
      "Accuracy score corresponding to oldpeak --> 0.7220161187156198\n",
      "\n",
      "Let's fit the sequential model on slope\n",
      "Accuracy score corresponding to slope --> 0.6932326979659716\n",
      "\n",
      "Let's fit the sequential model on ca\n",
      "Accuracy score corresponding to ca --> 0.7408212869387233\n",
      "\n",
      "Let's fit the sequential model on thal\n",
      "Accuracy score corresponding to thal --> 0.7702443392605859\n",
      "\n"
     ]
    },
    {
     "data": {
      "text/plain": [
       "{'age': 0.5484201100166304,\n",
       " 'sex': 0.5484201100166304,\n",
       " 'cp': 0.7565562236151977,\n",
       " 'trestbps': 0.6173723935013432,\n",
       " 'chol': 0.6430855827043623,\n",
       " 'fbs': 0.5484201100166304,\n",
       " 'restecg': 0.5786107202251504,\n",
       " 'thalach': 0.7147243187923756,\n",
       " 'exang': 0.7254701292055776,\n",
       " 'oldpeak': 0.7220161187156198,\n",
       " 'slope': 0.6932326979659716,\n",
       " 'ca': 0.7408212869387233,\n",
       " 'thal': 0.7702443392605859}"
      ]
     },
     "execution_count": 131,
     "metadata": {},
     "output_type": "execute_result"
    }
   ],
   "source": [
    "# Let's call the feature_importance function to calulate the importance of each feature\n",
    "feature_accuracy = feature_importance()\n",
    "\n",
    "# Let's print the feature_accuracy dictionary\n",
    "feature_accuracy"
   ]
  },
  {
   "cell_type": "code",
   "execution_count": 132,
   "id": "f46cdf90",
   "metadata": {},
   "outputs": [
    {
     "name": "stdout",
     "output_type": "stream",
     "text": [
      "['age' 'sex' 'fbs' 'restecg' 'trestbps' 'chol' 'slope' 'thalach' 'oldpeak'\n",
      " 'exang' 'ca' 'cp' 'thal']\n"
     ]
    },
    {
     "data": {
      "image/png": "[encoded data removed]",
      "text/plain": [
       "<Figure size 1440x576 with 1 Axes>"
      ]
     },
     "metadata": {
      "needs_background": "light"
     },
     "output_type": "display_data"
    }
   ],
   "source": [
    "# Sort the validation accuracies in descending order\n",
    "sorted_accuracies = {key: value for key, value in sorted(feature_accuracy.items(), key=lambda item: item[1])}\n",
    "sorted_features = np.array(list(sorted_accuracies.keys()))\n",
    "print(sorted_features)\n",
    "plt.figure(figsize=(20, 8))\n",
    "\n",
    "feature_a = np.array(list(sorted_accuracies.values())) * 100\n",
    "# Plot the validation accuracies\n",
    "plt.bar(x=list(sorted_accuracies.keys()), height=feature_a)\n",
    "plt.savefig(\"feature_imp\")\n",
    "plt.show()\n"
   ]
  },
  {
   "cell_type": "code",
   "execution_count": 258,
   "id": "224b273a",
   "metadata": {},
   "outputs": [],
   "source": [
    "train_df = pd.DataFrame(XTRAIN, columns=data_frame.columns.tolist()[:-1])\n",
    "validation_df = pd.DataFrame(XVALIDATION, columns=data_frame.columns.tolist()[:-1])\n"
   ]
  },
  {
   "cell_type": "code",
   "execution_count": 259,
   "id": "0e04239a-5a22-41da-b5b2-6eb68887d75d",
   "metadata": {},
   "outputs": [],
   "source": [
    "def attribute_reduction_model():\n",
    "    acc_after_reduction = []\n",
    "    Val_acc_after_reduction = []\n",
    "\n",
    "    for feature in sorted_features:\n",
    "        train_df.drop(feature, axis=1, inplace = True)\n",
    "        validation_df.drop(feature, axis=1, inplace = True)\n",
    "        reduction_model = Sequential()\n",
    "        reduction_model.add(Dense(32, input_dim=train_df.shape[1], activation=\"relu\"))\n",
    "        reduction_model.add(Dense(16, activation=\"relu\"))\n",
    "        reduction_model.add(Dense(8, activation=\"relu\"))\n",
    "        reduction_model.add(Dense(1, activation=\"sigmoid\"))\n",
    "\n",
    "        reduction_model.compile(loss=\"binary_crossentropy\", optimizer=\"adam\", metrics=[\"accuracy\"])\n",
    "\n",
    "        # Define checkpoint callback\n",
    "        checkpoint_callback = ModelCheckpoint(\"best_model_weights.hdf5\", monitor='val_loss', verbose=1, save_best_only=True, mode='min')\n",
    "\n",
    "        reduction_history = reduction_model.fit(train_df.values, YTRAIN, epochs=10, \n",
    "                                validation_data=(validation_df.values, YVALIDATION), \n",
    "                                callbacks=[checkpoint_callback])\n",
    "\n",
    "        acc_after_reduction.append({feature: reduction_history.history['accuracy']})\n",
    "        Val_acc_after_reduction.append({feature: reduction_history.history['val_accuracy']})\n",
    "        \n",
    "    return acc_after_reduction, Val_acc_after_reduction"
   ]
  },
  {
   "cell_type": "code",
   "execution_count": 260,
   "id": "b17642e3-6fd7-48d8-8bb1-5e291df4dd5a",
   "metadata": {},
   "outputs": [
    {
     "name": "stdout",
     "output_type": "stream",
     "text": [
      "Epoch 1/10\n",
      "556/571 [============================>.] - ETA: 0s - loss: 0.3170 - accuracy: 0.8721\n",
      "Epoch 1: val_loss improved from inf to 0.21015, saving model to best_model_weights.hdf5\n",
      "571/571 [==============================] - 5s 4ms/step - loss: 0.3140 - accuracy: 0.8739 - val_loss: 0.2102 - val_accuracy: 0.9390\n",
      "Epoch 2/10\n",
      "553/571 [============================>.] - ETA: 0s - loss: 0.1423 - accuracy: 0.9546\n",
      "Epoch 2: val_loss improved from 0.21015 to 0.09312, saving model to best_model_weights.hdf5\n",
      "571/571 [==============================] - 2s 4ms/step - loss: 0.1416 - accuracy: 0.9547 - val_loss: 0.0931 - val_accuracy: 0.9681\n",
      "Epoch 3/10\n",
      "555/571 [============================>.] - ETA: 0s - loss: 0.0543 - accuracy: 0.9838\n",
      "Epoch 3: val_loss improved from 0.09312 to 0.02830, saving model to best_model_weights.hdf5\n",
      "571/571 [==============================] - 2s 3ms/step - loss: 0.0538 - accuracy: 0.9839 - val_loss: 0.0283 - val_accuracy: 0.9910\n",
      "Epoch 4/10\n",
      "556/571 [============================>.] - ETA: 0s - loss: 0.0184 - accuracy: 0.9962\n",
      "Epoch 4: val_loss improved from 0.02830 to 0.01002, saving model to best_model_weights.hdf5\n",
      "571/571 [==============================] - 2s 3ms/step - loss: 0.0182 - accuracy: 0.9963 - val_loss: 0.0100 - val_accuracy: 1.0000\n",
      "Epoch 5/10\n",
      "561/571 [============================>.] - ETA: 0s - loss: 0.0067 - accuracy: 0.9994\n",
      "Epoch 5: val_loss improved from 0.01002 to 0.00368, saving model to best_model_weights.hdf5\n",
      "571/571 [==============================] - 2s 4ms/step - loss: 0.0067 - accuracy: 0.9995 - val_loss: 0.0037 - val_accuracy: 1.0000\n",
      "Epoch 6/10\n",
      "561/571 [============================>.] - ETA: 0s - loss: 0.0025 - accuracy: 1.0000\n",
      "Epoch 6: val_loss improved from 0.00368 to 0.00154, saving model to best_model_weights.hdf5\n",
      "571/571 [==============================] - 2s 3ms/step - loss: 0.0025 - accuracy: 1.0000 - val_loss: 0.0015 - val_accuracy: 1.0000\n",
      "Epoch 7/10\n",
      "569/571 [============================>.] - ETA: 0s - loss: 0.0012 - accuracy: 1.0000\n",
      "Epoch 7: val_loss improved from 0.00154 to 0.00082, saving model to best_model_weights.hdf5\n",
      "571/571 [==============================] - 2s 4ms/step - loss: 0.0012 - accuracy: 1.0000 - val_loss: 8.1568e-04 - val_accuracy: 1.0000\n",
      "Epoch 8/10\n",
      "571/571 [==============================] - ETA: 0s - loss: 6.3073e-04 - accuracy: 1.0000\n",
      "Epoch 8: val_loss improved from 0.00082 to 0.00047, saving model to best_model_weights.hdf5\n",
      "571/571 [==============================] - 2s 4ms/step - loss: 6.3073e-04 - accuracy: 1.0000 - val_loss: 4.7006e-04 - val_accuracy: 1.0000\n",
      "Epoch 9/10\n",
      "556/571 [============================>.] - ETA: 0s - loss: 3.8243e-04 - accuracy: 1.0000\n",
      "Epoch 9: val_loss improved from 0.00047 to 0.00028, saving model to best_model_weights.hdf5\n",
      "571/571 [==============================] - 2s 4ms/step - loss: 3.7986e-04 - accuracy: 1.0000 - val_loss: 2.8095e-04 - val_accuracy: 1.0000\n",
      "Epoch 10/10\n",
      "565/571 [============================>.] - ETA: 0s - loss: 2.3035e-04 - accuracy: 1.0000\n",
      "Epoch 10: val_loss improved from 0.00028 to 0.00018, saving model to best_model_weights.hdf5\n",
      "571/571 [==============================] - 2s 4ms/step - loss: 2.2968e-04 - accuracy: 1.0000 - val_loss: 1.7752e-04 - val_accuracy: 1.0000\n",
      "Epoch 1/10\n",
      "555/571 [============================>.] - ETA: 0s - loss: 0.3163 - accuracy: 0.8740\n",
      "Epoch 1: val_loss improved from inf to 0.19611, saving model to best_model_weights.hdf5\n",
      "571/571 [==============================] - 4s 4ms/step - loss: 0.3126 - accuracy: 0.8760 - val_loss: 0.1961 - val_accuracy: 0.9376\n",
      "Epoch 2/10\n",
      "555/571 [============================>.] - ETA: 0s - loss: 0.1297 - accuracy: 0.9608\n",
      "Epoch 2: val_loss improved from 0.19611 to 0.08158, saving model to best_model_weights.hdf5\n",
      "571/571 [==============================] - 2s 4ms/step - loss: 0.1279 - accuracy: 0.9615 - val_loss: 0.0816 - val_accuracy: 0.9753\n",
      "Epoch 3/10\n",
      "563/571 [============================>.] - ETA: 0s - loss: 0.0467 - accuracy: 0.9892\n",
      "Epoch 3: val_loss improved from 0.08158 to 0.02732, saving model to best_model_weights.hdf5\n",
      "571/571 [==============================] - 2s 4ms/step - loss: 0.0465 - accuracy: 0.9893 - val_loss: 0.0273 - val_accuracy: 0.9948\n",
      "Epoch 4/10\n",
      "558/571 [============================>.] - ETA: 0s - loss: 0.0166 - accuracy: 0.9979\n",
      "Epoch 4: val_loss improved from 0.02732 to 0.01073, saving model to best_model_weights.hdf5\n",
      "571/571 [==============================] - 2s 4ms/step - loss: 0.0165 - accuracy: 0.9980 - val_loss: 0.0107 - val_accuracy: 1.0000\n",
      "Epoch 5/10\n",
      "560/571 [============================>.] - ETA: 0s - loss: 0.0064 - accuracy: 1.0000\n",
      "Epoch 5: val_loss improved from 0.01073 to 0.00378, saving model to best_model_weights.hdf5\n",
      "571/571 [==============================] - 2s 3ms/step - loss: 0.0063 - accuracy: 1.0000 - val_loss: 0.0038 - val_accuracy: 1.0000\n",
      "Epoch 6/10\n",
      "570/571 [============================>.] - ETA: 0s - loss: 0.0026 - accuracy: 1.0000\n",
      "Epoch 6: val_loss improved from 0.00378 to 0.00177, saving model to best_model_weights.hdf5\n",
      "571/571 [==============================] - 2s 4ms/step - loss: 0.0026 - accuracy: 1.0000 - val_loss: 0.0018 - val_accuracy: 1.0000\n",
      "Epoch 7/10\n",
      "569/571 [============================>.] - ETA: 0s - loss: 0.0013 - accuracy: 1.0000\n",
      "Epoch 7: val_loss improved from 0.00177 to 0.00095, saving model to best_model_weights.hdf5\n",
      "571/571 [==============================] - 2s 3ms/step - loss: 0.0013 - accuracy: 1.0000 - val_loss: 9.5143e-04 - val_accuracy: 1.0000\n",
      "Epoch 8/10\n",
      "562/571 [============================>.] - ETA: 0s - loss: 7.1575e-04 - accuracy: 1.0000\n",
      "Epoch 8: val_loss improved from 0.00095 to 0.00055, saving model to best_model_weights.hdf5\n",
      "571/571 [==============================] - 2s 3ms/step - loss: 7.1214e-04 - accuracy: 1.0000 - val_loss: 5.5313e-04 - val_accuracy: 1.0000\n",
      "Epoch 9/10\n",
      "553/571 [============================>.] - ETA: 0s - loss: 4.2129e-04 - accuracy: 1.0000\n",
      "Epoch 9: val_loss improved from 0.00055 to 0.00032, saving model to best_model_weights.hdf5\n",
      "571/571 [==============================] - 2s 3ms/step - loss: 4.1814e-04 - accuracy: 1.0000 - val_loss: 3.1600e-04 - val_accuracy: 1.0000\n",
      "Epoch 10/10\n",
      "571/571 [==============================] - ETA: 0s - loss: 2.5293e-04 - accuracy: 1.0000\n",
      "Epoch 10: val_loss improved from 0.00032 to 0.00020, saving model to best_model_weights.hdf5\n",
      "571/571 [==============================] - 2s 4ms/step - loss: 2.5293e-04 - accuracy: 1.0000 - val_loss: 1.9734e-04 - val_accuracy: 1.0000\n",
      "Epoch 1/10\n",
      "554/571 [============================>.] - ETA: 0s - loss: 0.3244 - accuracy: 0.8761\n",
      "Epoch 1: val_loss improved from inf to 0.21229, saving model to best_model_weights.hdf5\n",
      "571/571 [==============================] - 4s 4ms/step - loss: 0.3196 - accuracy: 0.8782 - val_loss: 0.2123 - val_accuracy: 0.9204\n",
      "Epoch 2/10\n",
      "562/571 [============================>.] - ETA: 0s - loss: 0.1574 - accuracy: 0.9482\n",
      "Epoch 2: val_loss improved from 0.21229 to 0.10765, saving model to best_model_weights.hdf5\n",
      "571/571 [==============================] - 2s 4ms/step - loss: 0.1570 - accuracy: 0.9484 - val_loss: 0.1076 - val_accuracy: 0.9630\n",
      "Epoch 3/10\n",
      "557/571 [============================>.] - ETA: 0s - loss: 0.0599 - accuracy: 0.9846\n",
      "Epoch 3: val_loss improved from 0.10765 to 0.02914, saving model to best_model_weights.hdf5\n",
      "571/571 [==============================] - 2s 4ms/step - loss: 0.0592 - accuracy: 0.9849 - val_loss: 0.0291 - val_accuracy: 0.9973\n",
      "Epoch 4/10\n",
      "563/571 [============================>.] - ETA: 0s - loss: 0.0158 - accuracy: 0.9988\n",
      "Epoch 4: val_loss improved from 0.02914 to 0.00699, saving model to best_model_weights.hdf5\n",
      "571/571 [==============================] - 2s 4ms/step - loss: 0.0156 - accuracy: 0.9988 - val_loss: 0.0070 - val_accuracy: 1.0000\n",
      "Epoch 5/10\n",
      "571/571 [==============================] - ETA: 0s - loss: 0.0044 - accuracy: 1.0000\n",
      "Epoch 5: val_loss improved from 0.00699 to 0.00275, saving model to best_model_weights.hdf5\n",
      "571/571 [==============================] - 2s 3ms/step - loss: 0.0044 - accuracy: 1.0000 - val_loss: 0.0028 - val_accuracy: 1.0000\n",
      "Epoch 6/10\n",
      "565/571 [============================>.] - ETA: 0s - loss: 0.0019 - accuracy: 1.0000\n",
      "Epoch 6: val_loss improved from 0.00275 to 0.00128, saving model to best_model_weights.hdf5\n",
      "571/571 [==============================] - 2s 4ms/step - loss: 0.0019 - accuracy: 1.0000 - val_loss: 0.0013 - val_accuracy: 1.0000\n",
      "Epoch 7/10\n",
      "562/571 [============================>.] - ETA: 0s - loss: 9.7361e-04 - accuracy: 1.0000\n",
      "Epoch 7: val_loss improved from 0.00128 to 0.00071, saving model to best_model_weights.hdf5\n",
      "571/571 [==============================] - 2s 4ms/step - loss: 9.6837e-04 - accuracy: 1.0000 - val_loss: 7.1468e-04 - val_accuracy: 1.0000\n",
      "Epoch 8/10\n",
      "556/571 [============================>.] - ETA: 0s - loss: 5.5267e-04 - accuracy: 1.0000\n",
      "Epoch 8: val_loss improved from 0.00071 to 0.00042, saving model to best_model_weights.hdf5\n",
      "571/571 [==============================] - 2s 3ms/step - loss: 5.5126e-04 - accuracy: 1.0000 - val_loss: 4.2447e-04 - val_accuracy: 1.0000\n",
      "Epoch 9/10\n",
      "569/571 [============================>.] - ETA: 0s - loss: 3.2638e-04 - accuracy: 1.0000\n",
      "Epoch 9: val_loss improved from 0.00042 to 0.00025, saving model to best_model_weights.hdf5\n",
      "571/571 [==============================] - 2s 3ms/step - loss: 3.2618e-04 - accuracy: 1.0000 - val_loss: 2.4921e-04 - val_accuracy: 1.0000\n",
      "Epoch 10/10\n",
      "558/571 [============================>.] - ETA: 0s - loss: 1.9988e-04 - accuracy: 1.0000\n",
      "Epoch 10: val_loss improved from 0.00025 to 0.00016, saving model to best_model_weights.hdf5\n",
      "571/571 [==============================] - 2s 3ms/step - loss: 1.9929e-04 - accuracy: 1.0000 - val_loss: 1.6192e-04 - val_accuracy: 1.0000\n",
      "Epoch 1/10\n",
      "570/571 [============================>.] - ETA: 0s - loss: 0.3536 - accuracy: 0.8650\n",
      "Epoch 1: val_loss improved from inf to 0.23725, saving model to best_model_weights.hdf5\n",
      "571/571 [==============================] - 4s 4ms/step - loss: 0.3536 - accuracy: 0.8650 - val_loss: 0.2373 - val_accuracy: 0.8986\n",
      "Epoch 2/10\n",
      "558/571 [============================>.] - ETA: 0s - loss: 0.1777 - accuracy: 0.9285\n",
      "Epoch 2: val_loss improved from 0.23725 to 0.12386, saving model to best_model_weights.hdf5\n",
      "571/571 [==============================] - 2s 3ms/step - loss: 0.1765 - accuracy: 0.9289 - val_loss: 0.1239 - val_accuracy: 0.9491\n",
      "Epoch 3/10\n",
      "567/571 [============================>.] - ETA: 0s - loss: 0.0834 - accuracy: 0.9706\n",
      "Epoch 3: val_loss improved from 0.12386 to 0.05461, saving model to best_model_weights.hdf5\n",
      "571/571 [==============================] - 2s 3ms/step - loss: 0.0832 - accuracy: 0.9707 - val_loss: 0.0546 - val_accuracy: 0.9875\n",
      "Epoch 4/10\n",
      "552/571 [============================>.] - ETA: 0s - loss: 0.0357 - accuracy: 0.9925\n",
      "Epoch 4: val_loss improved from 0.05461 to 0.02396, saving model to best_model_weights.hdf5\n",
      "571/571 [==============================] - 2s 3ms/step - loss: 0.0355 - accuracy: 0.9927 - val_loss: 0.0240 - val_accuracy: 1.0000\n",
      "Epoch 5/10\n",
      "557/571 [============================>.] - ETA: 0s - loss: 0.0169 - accuracy: 0.9980\n",
      "Epoch 5: val_loss improved from 0.02396 to 0.01041, saving model to best_model_weights.hdf5\n",
      "571/571 [==============================] - 2s 3ms/step - loss: 0.0167 - accuracy: 0.9981 - val_loss: 0.0104 - val_accuracy: 1.0000\n",
      "Epoch 6/10\n",
      "557/571 [============================>.] - ETA: 0s - loss: 0.0077 - accuracy: 0.9998\n",
      "Epoch 6: val_loss improved from 0.01041 to 0.00510, saving model to best_model_weights.hdf5\n",
      "571/571 [==============================] - 2s 4ms/step - loss: 0.0077 - accuracy: 0.9998 - val_loss: 0.0051 - val_accuracy: 1.0000\n",
      "Epoch 7/10\n",
      "552/571 [============================>.] - ETA: 0s - loss: 0.0037 - accuracy: 1.0000\n",
      "Epoch 7: val_loss improved from 0.00510 to 0.00243, saving model to best_model_weights.hdf5\n",
      "571/571 [==============================] - 2s 4ms/step - loss: 0.0037 - accuracy: 1.0000 - val_loss: 0.0024 - val_accuracy: 1.0000\n",
      "Epoch 8/10\n",
      "568/571 [============================>.] - ETA: 0s - loss: 0.0018 - accuracy: 1.0000\n",
      "Epoch 8: val_loss improved from 0.00243 to 0.00138, saving model to best_model_weights.hdf5\n",
      "571/571 [==============================] - 2s 3ms/step - loss: 0.0018 - accuracy: 1.0000 - val_loss: 0.0014 - val_accuracy: 1.0000\n",
      "Epoch 9/10\n",
      "564/571 [============================>.] - ETA: 0s - loss: 0.0011 - accuracy: 1.0000\n",
      "Epoch 9: val_loss improved from 0.00138 to 0.00081, saving model to best_model_weights.hdf5\n",
      "571/571 [==============================] - 2s 4ms/step - loss: 0.0011 - accuracy: 1.0000 - val_loss: 8.1356e-04 - val_accuracy: 1.0000\n",
      "Epoch 10/10\n",
      "568/571 [============================>.] - ETA: 0s - loss: 5.9504e-04 - accuracy: 1.0000\n",
      "Epoch 10: val_loss improved from 0.00081 to 0.00046, saving model to best_model_weights.hdf5\n",
      "571/571 [==============================] - 2s 3ms/step - loss: 5.9386e-04 - accuracy: 1.0000 - val_loss: 4.6350e-04 - val_accuracy: 1.0000\n",
      "Epoch 1/10\n",
      "570/571 [============================>.] - ETA: 0s - loss: 0.3385 - accuracy: 0.8638\n",
      "Epoch 1: val_loss improved from inf to 0.24147, saving model to best_model_weights.hdf5\n",
      "571/571 [==============================] - 4s 3ms/step - loss: 0.3385 - accuracy: 0.8638 - val_loss: 0.2415 - val_accuracy: 0.9076\n",
      "Epoch 2/10\n",
      "550/571 [===========================>..] - ETA: 0s - loss: 0.1813 - accuracy: 0.9313\n",
      "Epoch 2: val_loss improved from 0.24147 to 0.13238, saving model to best_model_weights.hdf5\n",
      "571/571 [==============================] - 2s 3ms/step - loss: 0.1794 - accuracy: 0.9322 - val_loss: 0.1324 - val_accuracy: 0.9569\n",
      "Epoch 3/10\n",
      "570/571 [============================>.] - ETA: 0s - loss: 0.0993 - accuracy: 0.9670\n",
      "Epoch 3: val_loss improved from 0.13238 to 0.07961, saving model to best_model_weights.hdf5\n",
      "571/571 [==============================] - 2s 3ms/step - loss: 0.0993 - accuracy: 0.9670 - val_loss: 0.0796 - val_accuracy: 0.9715\n",
      "Epoch 4/10\n",
      "554/571 [============================>.] - ETA: 0s - loss: 0.0619 - accuracy: 0.9797\n",
      "Epoch 4: val_loss improved from 0.07961 to 0.05086, saving model to best_model_weights.hdf5\n",
      "571/571 [==============================] - 2s 3ms/step - loss: 0.0616 - accuracy: 0.9798 - val_loss: 0.0509 - val_accuracy: 0.9789\n",
      "Epoch 5/10\n",
      "569/571 [============================>.] - ETA: 0s - loss: 0.0409 - accuracy: 0.9854\n",
      "Epoch 5: val_loss improved from 0.05086 to 0.03417, saving model to best_model_weights.hdf5\n",
      "571/571 [==============================] - 2s 3ms/step - loss: 0.0409 - accuracy: 0.9855 - val_loss: 0.0342 - val_accuracy: 0.9839\n",
      "Epoch 6/10\n",
      "556/571 [============================>.] - ETA: 0s - loss: 0.0277 - accuracy: 0.9917\n",
      "Epoch 6: val_loss improved from 0.03417 to 0.02162, saving model to best_model_weights.hdf5\n",
      "571/571 [==============================] - 2s 3ms/step - loss: 0.0277 - accuracy: 0.9916 - val_loss: 0.0216 - val_accuracy: 0.9964\n",
      "Epoch 7/10\n",
      "559/571 [============================>.] - ETA: 0s - loss: 0.0190 - accuracy: 0.9946\n",
      "Epoch 7: val_loss improved from 0.02162 to 0.01620, saving model to best_model_weights.hdf5\n",
      "571/571 [==============================] - 2s 3ms/step - loss: 0.0189 - accuracy: 0.9946 - val_loss: 0.0162 - val_accuracy: 0.9942\n",
      "Epoch 8/10\n",
      "556/571 [============================>.] - ETA: 0s - loss: 0.0143 - accuracy: 0.9948\n",
      "Epoch 8: val_loss improved from 0.01620 to 0.01150, saving model to best_model_weights.hdf5\n",
      "571/571 [==============================] - 2s 3ms/step - loss: 0.0144 - accuracy: 0.9947 - val_loss: 0.0115 - val_accuracy: 0.9964\n",
      "Epoch 9/10\n",
      "546/571 [===========================>..] - ETA: 0s - loss: 0.0103 - accuracy: 0.9961\n",
      "Epoch 9: val_loss improved from 0.01150 to 0.00793, saving model to best_model_weights.hdf5\n",
      "571/571 [==============================] - 2s 3ms/step - loss: 0.0101 - accuracy: 0.9962 - val_loss: 0.0079 - val_accuracy: 0.9964\n",
      "Epoch 10/10\n",
      "551/571 [===========================>..] - ETA: 0s - loss: 0.0079 - accuracy: 0.9977\n",
      "Epoch 10: val_loss improved from 0.00793 to 0.00551, saving model to best_model_weights.hdf5\n",
      "571/571 [==============================] - 2s 3ms/step - loss: 0.0080 - accuracy: 0.9976 - val_loss: 0.0055 - val_accuracy: 1.0000\n",
      "Epoch 1/10\n",
      "555/571 [============================>.] - ETA: 0s - loss: 0.3367 - accuracy: 0.8630\n",
      "Epoch 1: val_loss improved from inf to 0.27176, saving model to best_model_weights.hdf5\n",
      "571/571 [==============================] - 4s 4ms/step - loss: 0.3347 - accuracy: 0.8638 - val_loss: 0.2718 - val_accuracy: 0.8792\n",
      "Epoch 2/10\n",
      "558/571 [============================>.] - ETA: 0s - loss: 0.2333 - accuracy: 0.9070\n",
      "Epoch 2: val_loss improved from 0.27176 to 0.20188, saving model to best_model_weights.hdf5\n",
      "571/571 [==============================] - 2s 3ms/step - loss: 0.2330 - accuracy: 0.9074 - val_loss: 0.2019 - val_accuracy: 0.9248\n",
      "Epoch 3/10\n",
      "561/571 [============================>.] - ETA: 0s - loss: 0.1725 - accuracy: 0.9300\n",
      "Epoch 3: val_loss improved from 0.20188 to 0.14885, saving model to best_model_weights.hdf5\n",
      "571/571 [==============================] - 2s 3ms/step - loss: 0.1722 - accuracy: 0.9300 - val_loss: 0.1488 - val_accuracy: 0.9330\n",
      "Epoch 4/10\n",
      "558/571 [============================>.] - ETA: 0s - loss: 0.1279 - accuracy: 0.9448\n",
      "Epoch 4: val_loss improved from 0.14885 to 0.11190, saving model to best_model_weights.hdf5\n",
      "571/571 [==============================] - 2s 3ms/step - loss: 0.1273 - accuracy: 0.9451 - val_loss: 0.1119 - val_accuracy: 0.9502\n",
      "Epoch 5/10\n",
      "561/571 [============================>.] - ETA: 0s - loss: 0.0949 - accuracy: 0.9559\n",
      "Epoch 5: val_loss improved from 0.11190 to 0.08678, saving model to best_model_weights.hdf5\n",
      "571/571 [==============================] - 2s 3ms/step - loss: 0.0949 - accuracy: 0.9559 - val_loss: 0.0868 - val_accuracy: 0.9688\n",
      "Epoch 6/10\n",
      "551/571 [===========================>..] - ETA: 0s - loss: 0.0772 - accuracy: 0.9656\n",
      "Epoch 6: val_loss improved from 0.08678 to 0.06892, saving model to best_model_weights.hdf5\n",
      "571/571 [==============================] - 2s 3ms/step - loss: 0.0764 - accuracy: 0.9658 - val_loss: 0.0689 - val_accuracy: 0.9699\n",
      "Epoch 7/10\n",
      "570/571 [============================>.] - ETA: 0s - loss: 0.0665 - accuracy: 0.9703\n",
      "Epoch 7: val_loss improved from 0.06892 to 0.06396, saving model to best_model_weights.hdf5\n",
      "571/571 [==============================] - 2s 3ms/step - loss: 0.0665 - accuracy: 0.9703 - val_loss: 0.0640 - val_accuracy: 0.9708\n",
      "Epoch 8/10\n",
      "552/571 [============================>.] - ETA: 0s - loss: 0.0615 - accuracy: 0.9714\n",
      "Epoch 8: val_loss improved from 0.06396 to 0.05538, saving model to best_model_weights.hdf5\n",
      "571/571 [==============================] - 2s 3ms/step - loss: 0.0611 - accuracy: 0.9717 - val_loss: 0.0554 - val_accuracy: 0.9751\n",
      "Epoch 9/10\n",
      "557/571 [============================>.] - ETA: 0s - loss: 0.0567 - accuracy: 0.9754\n",
      "Epoch 9: val_loss improved from 0.05538 to 0.04988, saving model to best_model_weights.hdf5\n",
      "571/571 [==============================] - 2s 3ms/step - loss: 0.0571 - accuracy: 0.9753 - val_loss: 0.0499 - val_accuracy: 0.9822\n",
      "Epoch 10/10\n",
      "551/571 [===========================>..] - ETA: 0s - loss: 0.0534 - accuracy: 0.9762\n",
      "Epoch 10: val_loss did not improve from 0.04988\n",
      "571/571 [==============================] - 1s 2ms/step - loss: 0.0530 - accuracy: 0.9764 - val_loss: 0.0609 - val_accuracy: 0.9719\n",
      "Epoch 1/10\n",
      "553/571 [============================>.] - ETA: 0s - loss: 0.3445 - accuracy: 0.8586\n",
      "Epoch 1: val_loss improved from inf to 0.25996, saving model to best_model_weights.hdf5\n",
      "571/571 [==============================] - 4s 3ms/step - loss: 0.3413 - accuracy: 0.8601 - val_loss: 0.2600 - val_accuracy: 0.8922\n",
      "Epoch 2/10\n",
      "562/571 [============================>.] - ETA: 0s - loss: 0.2233 - accuracy: 0.9066\n",
      "Epoch 2: val_loss improved from 0.25996 to 0.19409, saving model to best_model_weights.hdf5\n",
      "571/571 [==============================] - 2s 3ms/step - loss: 0.2225 - accuracy: 0.9070 - val_loss: 0.1941 - val_accuracy: 0.9223\n",
      "Epoch 3/10\n",
      "547/571 [===========================>..] - ETA: 0s - loss: 0.1745 - accuracy: 0.9328\n",
      "Epoch 3: val_loss improved from 0.19409 to 0.15902, saving model to best_model_weights.hdf5\n",
      "571/571 [==============================] - 2s 3ms/step - loss: 0.1743 - accuracy: 0.9332 - val_loss: 0.1590 - val_accuracy: 0.9281\n",
      "Epoch 4/10\n",
      "558/571 [============================>.] - ETA: 0s - loss: 0.1353 - accuracy: 0.9466\n",
      "Epoch 4: val_loss improved from 0.15902 to 0.12015, saving model to best_model_weights.hdf5\n",
      "571/571 [==============================] - 2s 3ms/step - loss: 0.1349 - accuracy: 0.9470 - val_loss: 0.1202 - val_accuracy: 0.9531\n",
      "Epoch 5/10\n",
      "565/571 [============================>.] - ETA: 0s - loss: 0.1081 - accuracy: 0.9555\n",
      "Epoch 5: val_loss improved from 0.12015 to 0.09584, saving model to best_model_weights.hdf5\n",
      "571/571 [==============================] - 2s 3ms/step - loss: 0.1079 - accuracy: 0.9556 - val_loss: 0.0958 - val_accuracy: 0.9673\n",
      "Epoch 6/10\n",
      "563/571 [============================>.] - ETA: 0s - loss: 0.0888 - accuracy: 0.9627\n",
      "Epoch 6: val_loss improved from 0.09584 to 0.08276, saving model to best_model_weights.hdf5\n",
      "571/571 [==============================] - 2s 3ms/step - loss: 0.0888 - accuracy: 0.9627 - val_loss: 0.0828 - val_accuracy: 0.9666\n",
      "Epoch 7/10\n",
      "546/571 [===========================>..] - ETA: 0s - loss: 0.0752 - accuracy: 0.9708\n",
      "Epoch 7: val_loss improved from 0.08276 to 0.07090, saving model to best_model_weights.hdf5\n",
      "571/571 [==============================] - 1s 3ms/step - loss: 0.0753 - accuracy: 0.9705 - val_loss: 0.0709 - val_accuracy: 0.9665\n",
      "Epoch 8/10\n",
      "549/571 [===========================>..] - ETA: 0s - loss: 0.0612 - accuracy: 0.9777\n",
      "Epoch 8: val_loss improved from 0.07090 to 0.05697, saving model to best_model_weights.hdf5\n",
      "571/571 [==============================] - 2s 3ms/step - loss: 0.0609 - accuracy: 0.9781 - val_loss: 0.0570 - val_accuracy: 0.9861\n",
      "Epoch 9/10\n",
      "548/571 [===========================>..] - ETA: 0s - loss: 0.0509 - accuracy: 0.9828\n",
      "Epoch 9: val_loss improved from 0.05697 to 0.05613, saving model to best_model_weights.hdf5\n",
      "571/571 [==============================] - 1s 2ms/step - loss: 0.0511 - accuracy: 0.9827 - val_loss: 0.0561 - val_accuracy: 0.9822\n",
      "Epoch 10/10\n",
      "561/571 [============================>.] - ETA: 0s - loss: 0.0446 - accuracy: 0.9855\n",
      "Epoch 10: val_loss improved from 0.05613 to 0.04927, saving model to best_model_weights.hdf5\n",
      "571/571 [==============================] - 2s 3ms/step - loss: 0.0447 - accuracy: 0.9855 - val_loss: 0.0493 - val_accuracy: 0.9767\n",
      "Epoch 1/10\n",
      "549/571 [===========================>..] - ETA: 0s - loss: 0.3886 - accuracy: 0.8367\n",
      "Epoch 1: val_loss improved from inf to 0.30809, saving model to best_model_weights.hdf5\n",
      "571/571 [==============================] - 3s 3ms/step - loss: 0.3855 - accuracy: 0.8383 - val_loss: 0.3081 - val_accuracy: 0.8851\n",
      "Epoch 2/10\n",
      "558/571 [============================>.] - ETA: 0s - loss: 0.2871 - accuracy: 0.8918\n",
      "Epoch 2: val_loss improved from 0.30809 to 0.27125, saving model to best_model_weights.hdf5\n",
      "571/571 [==============================] - 1s 3ms/step - loss: 0.2869 - accuracy: 0.8921 - val_loss: 0.2712 - val_accuracy: 0.8993\n",
      "Epoch 3/10\n",
      "548/571 [===========================>..] - ETA: 0s - loss: 0.2570 - accuracy: 0.9025\n",
      "Epoch 3: val_loss improved from 0.27125 to 0.24581, saving model to best_model_weights.hdf5\n",
      "571/571 [==============================] - 2s 3ms/step - loss: 0.2581 - accuracy: 0.9015 - val_loss: 0.2458 - val_accuracy: 0.9025\n",
      "Epoch 4/10\n",
      "558/571 [============================>.] - ETA: 0s - loss: 0.2300 - accuracy: 0.9107\n",
      "Epoch 4: val_loss improved from 0.24581 to 0.22055, saving model to best_model_weights.hdf5\n",
      "571/571 [==============================] - 2s 3ms/step - loss: 0.2295 - accuracy: 0.9112 - val_loss: 0.2205 - val_accuracy: 0.9105\n",
      "Epoch 5/10\n",
      "564/571 [============================>.] - ETA: 0s - loss: 0.2021 - accuracy: 0.9223\n",
      "Epoch 5: val_loss improved from 0.22055 to 0.18902, saving model to best_model_weights.hdf5\n",
      "571/571 [==============================] - 2s 3ms/step - loss: 0.2015 - accuracy: 0.9226 - val_loss: 0.1890 - val_accuracy: 0.9254\n",
      "Epoch 6/10\n",
      "567/571 [============================>.] - ETA: 0s - loss: 0.1726 - accuracy: 0.9340\n",
      "Epoch 6: val_loss improved from 0.18902 to 0.16585, saving model to best_model_weights.hdf5\n",
      "571/571 [==============================] - 1s 2ms/step - loss: 0.1727 - accuracy: 0.9339 - val_loss: 0.1658 - val_accuracy: 0.9346\n",
      "Epoch 7/10\n",
      "548/571 [===========================>..] - ETA: 0s - loss: 0.1487 - accuracy: 0.9412\n",
      "Epoch 7: val_loss improved from 0.16585 to 0.13899, saving model to best_model_weights.hdf5\n",
      "571/571 [==============================] - 2s 3ms/step - loss: 0.1475 - accuracy: 0.9419 - val_loss: 0.1390 - val_accuracy: 0.9451\n",
      "Epoch 8/10\n",
      "543/571 [===========================>..] - ETA: 0s - loss: 0.1265 - accuracy: 0.9462\n",
      "Epoch 8: val_loss improved from 0.13899 to 0.13235, saving model to best_model_weights.hdf5\n",
      "571/571 [==============================] - 1s 3ms/step - loss: 0.1262 - accuracy: 0.9462 - val_loss: 0.1323 - val_accuracy: 0.9363\n",
      "Epoch 9/10\n",
      "546/571 [===========================>..] - ETA: 0s - loss: 0.1060 - accuracy: 0.9539\n",
      "Epoch 9: val_loss improved from 0.13235 to 0.10621, saving model to best_model_weights.hdf5\n",
      "571/571 [==============================] - 1s 3ms/step - loss: 0.1058 - accuracy: 0.9541 - val_loss: 0.1062 - val_accuracy: 0.9520\n",
      "Epoch 10/10\n",
      "562/571 [============================>.] - ETA: 0s - loss: 0.0927 - accuracy: 0.9591\n",
      "Epoch 10: val_loss improved from 0.10621 to 0.09186, saving model to best_model_weights.hdf5\n",
      "571/571 [==============================] - 1s 3ms/step - loss: 0.0929 - accuracy: 0.9589 - val_loss: 0.0919 - val_accuracy: 0.9615\n",
      "Epoch 1/10\n",
      "566/571 [============================>.] - ETA: 0s - loss: 0.3927 - accuracy: 0.8315\n",
      "Epoch 1: val_loss improved from inf to 0.31498, saving model to best_model_weights.hdf5\n",
      "571/571 [==============================] - 3s 3ms/step - loss: 0.3930 - accuracy: 0.8312 - val_loss: 0.3150 - val_accuracy: 0.8680\n",
      "Epoch 2/10\n",
      "556/571 [============================>.] - ETA: 0s - loss: 0.3037 - accuracy: 0.8729\n",
      "Epoch 2: val_loss improved from 0.31498 to 0.29588, saving model to best_model_weights.hdf5\n",
      "571/571 [==============================] - 1s 2ms/step - loss: 0.3034 - accuracy: 0.8728 - val_loss: 0.2959 - val_accuracy: 0.8703\n",
      "Epoch 3/10\n",
      "549/571 [===========================>..] - ETA: 0s - loss: 0.2873 - accuracy: 0.8715\n",
      "Epoch 3: val_loss improved from 0.29588 to 0.28167, saving model to best_model_weights.hdf5\n",
      "571/571 [==============================] - 1s 2ms/step - loss: 0.2871 - accuracy: 0.8720 - val_loss: 0.2817 - val_accuracy: 0.8691\n",
      "Epoch 4/10\n",
      "545/571 [===========================>..] - ETA: 0s - loss: 0.2702 - accuracy: 0.8740\n",
      "Epoch 4: val_loss improved from 0.28167 to 0.26892, saving model to best_model_weights.hdf5\n",
      "571/571 [==============================] - 1s 2ms/step - loss: 0.2711 - accuracy: 0.8740 - val_loss: 0.2689 - val_accuracy: 0.8717\n",
      "Epoch 5/10\n",
      "568/571 [============================>.] - ETA: 0s - loss: 0.2562 - accuracy: 0.8775\n",
      "Epoch 5: val_loss improved from 0.26892 to 0.25693, saving model to best_model_weights.hdf5\n",
      "571/571 [==============================] - 1s 2ms/step - loss: 0.2560 - accuracy: 0.8777 - val_loss: 0.2569 - val_accuracy: 0.8782\n",
      "Epoch 6/10\n",
      "542/571 [===========================>..] - ETA: 0s - loss: 0.2457 - accuracy: 0.8859\n",
      "Epoch 6: val_loss improved from 0.25693 to 0.24314, saving model to best_model_weights.hdf5\n",
      "571/571 [==============================] - 1s 2ms/step - loss: 0.2450 - accuracy: 0.8861 - val_loss: 0.2431 - val_accuracy: 0.8863\n",
      "Epoch 7/10\n",
      "554/571 [============================>.] - ETA: 0s - loss: 0.2355 - accuracy: 0.8902\n",
      "Epoch 7: val_loss improved from 0.24314 to 0.23383, saving model to best_model_weights.hdf5\n",
      "571/571 [==============================] - 1s 2ms/step - loss: 0.2350 - accuracy: 0.8902 - val_loss: 0.2338 - val_accuracy: 0.8918\n",
      "Epoch 8/10\n",
      "556/571 [============================>.] - ETA: 0s - loss: 0.2260 - accuracy: 0.8947\n",
      "Epoch 8: val_loss improved from 0.23383 to 0.22741, saving model to best_model_weights.hdf5\n",
      "571/571 [==============================] - 1s 2ms/step - loss: 0.2256 - accuracy: 0.8949 - val_loss: 0.2274 - val_accuracy: 0.8904\n",
      "Epoch 9/10\n",
      "556/571 [============================>.] - ETA: 0s - loss: 0.2169 - accuracy: 0.9030\n",
      "Epoch 9: val_loss improved from 0.22741 to 0.22655, saving model to best_model_weights.hdf5\n",
      "571/571 [==============================] - 1s 2ms/step - loss: 0.2170 - accuracy: 0.9030 - val_loss: 0.2266 - val_accuracy: 0.8908\n",
      "Epoch 10/10\n",
      "567/571 [============================>.] - ETA: 0s - loss: 0.2103 - accuracy: 0.9062\n",
      "Epoch 10: val_loss improved from 0.22655 to 0.21762, saving model to best_model_weights.hdf5\n",
      "571/571 [==============================] - 1s 2ms/step - loss: 0.2104 - accuracy: 0.9063 - val_loss: 0.2176 - val_accuracy: 0.9067\n",
      "Epoch 1/10\n",
      "542/571 [===========================>..] - ETA: 0s - loss: 0.4161 - accuracy: 0.8379\n",
      "Epoch 1: val_loss improved from inf to 0.36561, saving model to best_model_weights.hdf5\n",
      "571/571 [==============================] - 4s 4ms/step - loss: 0.4152 - accuracy: 0.8376 - val_loss: 0.3656 - val_accuracy: 0.8521\n",
      "Epoch 2/10\n",
      "548/571 [===========================>..] - ETA: 0s - loss: 0.3705 - accuracy: 0.8541\n",
      "Epoch 2: val_loss improved from 0.36561 to 0.35955, saving model to best_model_weights.hdf5\n",
      "571/571 [==============================] - 1s 2ms/step - loss: 0.3685 - accuracy: 0.8548 - val_loss: 0.3596 - val_accuracy: 0.8521\n",
      "Epoch 3/10\n",
      "550/571 [===========================>..] - ETA: 0s - loss: 0.3625 - accuracy: 0.8586\n",
      "Epoch 3: val_loss improved from 0.35955 to 0.35699, saving model to best_model_weights.hdf5\n",
      "571/571 [==============================] - 1s 3ms/step - loss: 0.3618 - accuracy: 0.8590 - val_loss: 0.3570 - val_accuracy: 0.8584\n",
      "Epoch 4/10\n",
      "562/571 [============================>.] - ETA: 0s - loss: 0.3557 - accuracy: 0.8608\n",
      "Epoch 4: val_loss improved from 0.35699 to 0.35286, saving model to best_model_weights.hdf5\n",
      "571/571 [==============================] - 1s 2ms/step - loss: 0.3569 - accuracy: 0.8602 - val_loss: 0.3529 - val_accuracy: 0.8574\n",
      "Epoch 5/10\n",
      "566/571 [============================>.] - ETA: 0s - loss: 0.3545 - accuracy: 0.8603\n",
      "Epoch 5: val_loss improved from 0.35286 to 0.34730, saving model to best_model_weights.hdf5\n",
      "571/571 [==============================] - 1s 2ms/step - loss: 0.3541 - accuracy: 0.8606 - val_loss: 0.3473 - val_accuracy: 0.8584\n",
      "Epoch 6/10\n",
      "555/571 [============================>.] - ETA: 0s - loss: 0.3513 - accuracy: 0.8608\n",
      "Epoch 6: val_loss did not improve from 0.34730\n",
      "571/571 [==============================] - 1s 2ms/step - loss: 0.3523 - accuracy: 0.8603 - val_loss: 0.3513 - val_accuracy: 0.8584\n",
      "Epoch 7/10\n",
      "561/571 [============================>.] - ETA: 0s - loss: 0.3505 - accuracy: 0.8605\n",
      "Epoch 7: val_loss did not improve from 0.34730\n",
      "571/571 [==============================] - 1s 2ms/step - loss: 0.3503 - accuracy: 0.8605 - val_loss: 0.3474 - val_accuracy: 0.8584\n",
      "Epoch 8/10\n",
      "545/571 [===========================>..] - ETA: 0s - loss: 0.3478 - accuracy: 0.8606\n",
      "Epoch 8: val_loss did not improve from 0.34730\n",
      "571/571 [==============================] - 2s 3ms/step - loss: 0.3482 - accuracy: 0.8606 - val_loss: 0.3483 - val_accuracy: 0.8584\n",
      "Epoch 9/10\n",
      "557/571 [============================>.] - ETA: 0s - loss: 0.3469 - accuracy: 0.8609\n",
      "Epoch 9: val_loss improved from 0.34730 to 0.34226, saving model to best_model_weights.hdf5\n",
      "571/571 [==============================] - 1s 2ms/step - loss: 0.3471 - accuracy: 0.8606 - val_loss: 0.3423 - val_accuracy: 0.8584\n",
      "Epoch 10/10\n",
      "549/571 [===========================>..] - ETA: 0s - loss: 0.3472 - accuracy: 0.8611\n",
      "Epoch 10: val_loss improved from 0.34226 to 0.34194, saving model to best_model_weights.hdf5\n",
      "571/571 [==============================] - 1s 2ms/step - loss: 0.3466 - accuracy: 0.8610 - val_loss: 0.3419 - val_accuracy: 0.8556\n",
      "Epoch 1/10\n",
      "558/571 [============================>.] - ETA: 0s - loss: 0.4995 - accuracy: 0.7676\n",
      "Epoch 1: val_loss improved from inf to 0.45681, saving model to best_model_weights.hdf5\n",
      "571/571 [==============================] - 3s 3ms/step - loss: 0.4985 - accuracy: 0.7676 - val_loss: 0.4568 - val_accuracy: 0.7765\n",
      "Epoch 2/10\n",
      "550/571 [===========================>..] - ETA: 0s - loss: 0.4483 - accuracy: 0.7797\n",
      "Epoch 2: val_loss improved from 0.45681 to 0.44874, saving model to best_model_weights.hdf5\n",
      "571/571 [==============================] - 2s 3ms/step - loss: 0.4475 - accuracy: 0.7797 - val_loss: 0.4487 - val_accuracy: 0.7711\n",
      "Epoch 3/10\n",
      "540/571 [===========================>..] - ETA: 0s - loss: 0.4423 - accuracy: 0.7802\n",
      "Epoch 3: val_loss improved from 0.44874 to 0.44798, saving model to best_model_weights.hdf5\n",
      "571/571 [==============================] - 1s 2ms/step - loss: 0.4433 - accuracy: 0.7805 - val_loss: 0.4480 - val_accuracy: 0.7743\n",
      "Epoch 4/10\n",
      "542/571 [===========================>..] - ETA: 0s - loss: 0.4427 - accuracy: 0.7817\n",
      "Epoch 4: val_loss improved from 0.44798 to 0.44720, saving model to best_model_weights.hdf5\n",
      "571/571 [==============================] - 1s 2ms/step - loss: 0.4426 - accuracy: 0.7815 - val_loss: 0.4472 - val_accuracy: 0.7743\n",
      "Epoch 5/10\n",
      "541/571 [===========================>..] - ETA: 0s - loss: 0.4413 - accuracy: 0.7823\n",
      "Epoch 5: val_loss improved from 0.44720 to 0.44649, saving model to best_model_weights.hdf5\n",
      "571/571 [==============================] - 1s 2ms/step - loss: 0.4422 - accuracy: 0.7825 - val_loss: 0.4465 - val_accuracy: 0.7743\n",
      "Epoch 6/10\n",
      "554/571 [============================>.] - ETA: 0s - loss: 0.4428 - accuracy: 0.7797\n",
      "Epoch 6: val_loss improved from 0.44649 to 0.44616, saving model to best_model_weights.hdf5\n",
      "571/571 [==============================] - 2s 3ms/step - loss: 0.4420 - accuracy: 0.7803 - val_loss: 0.4462 - val_accuracy: 0.7743\n",
      "Epoch 7/10\n",
      "567/571 [============================>.] - ETA: 0s - loss: 0.4409 - accuracy: 0.7830\n",
      "Epoch 7: val_loss did not improve from 0.44616\n",
      "571/571 [==============================] - 1s 2ms/step - loss: 0.4411 - accuracy: 0.7831 - val_loss: 0.4467 - val_accuracy: 0.7743\n",
      "Epoch 8/10\n",
      "558/571 [============================>.] - ETA: 0s - loss: 0.4406 - accuracy: 0.7859\n",
      "Epoch 8: val_loss improved from 0.44616 to 0.44510, saving model to best_model_weights.hdf5\n",
      "571/571 [==============================] - 1s 2ms/step - loss: 0.4411 - accuracy: 0.7855 - val_loss: 0.4451 - val_accuracy: 0.7807\n",
      "Epoch 9/10\n",
      "562/571 [============================>.] - ETA: 0s - loss: 0.4405 - accuracy: 0.7863\n",
      "Epoch 9: val_loss improved from 0.44510 to 0.44462, saving model to best_model_weights.hdf5\n",
      "571/571 [==============================] - 1s 2ms/step - loss: 0.4410 - accuracy: 0.7863 - val_loss: 0.4446 - val_accuracy: 0.7807\n",
      "Epoch 10/10\n",
      "571/571 [==============================] - ETA: 0s - loss: 0.4412 - accuracy: 0.7864\n",
      "Epoch 10: val_loss did not improve from 0.44462\n",
      "571/571 [==============================] - 2s 3ms/step - loss: 0.4412 - accuracy: 0.7864 - val_loss: 0.4477 - val_accuracy: 0.7807\n",
      "Epoch 1/10\n",
      "565/571 [============================>.] - ETA: 0s - loss: 0.5690 - accuracy: 0.7508\n",
      "Epoch 1: val_loss improved from inf to 0.53876, saving model to best_model_weights.hdf5\n",
      "571/571 [==============================] - 3s 3ms/step - loss: 0.5685 - accuracy: 0.7512 - val_loss: 0.5388 - val_accuracy: 0.7711\n",
      "Epoch 2/10\n",
      "557/571 [============================>.] - ETA: 0s - loss: 0.5389 - accuracy: 0.7683\n",
      "Epoch 2: val_loss did not improve from 0.53876\n",
      "571/571 [==============================] - 1s 2ms/step - loss: 0.5382 - accuracy: 0.7690 - val_loss: 0.5394 - val_accuracy: 0.7711\n",
      "Epoch 3/10\n",
      "550/571 [===========================>..] - ETA: 0s - loss: 0.5399 - accuracy: 0.7680\n",
      "Epoch 3: val_loss did not improve from 0.53876\n",
      "571/571 [==============================] - 2s 3ms/step - loss: 0.5379 - accuracy: 0.7691 - val_loss: 0.5389 - val_accuracy: 0.7711\n",
      "Epoch 4/10\n",
      "570/571 [============================>.] - ETA: 0s - loss: 0.5383 - accuracy: 0.7697\n",
      "Epoch 4: val_loss improved from 0.53876 to 0.53819, saving model to best_model_weights.hdf5\n",
      "571/571 [==============================] - 1s 2ms/step - loss: 0.5384 - accuracy: 0.7697 - val_loss: 0.5382 - val_accuracy: 0.7711\n",
      "Epoch 5/10\n",
      "560/571 [============================>.] - ETA: 0s - loss: 0.5380 - accuracy: 0.7690\n",
      "Epoch 5: val_loss did not improve from 0.53819\n",
      "571/571 [==============================] - 1s 2ms/step - loss: 0.5379 - accuracy: 0.7691 - val_loss: 0.5395 - val_accuracy: 0.7711\n",
      "Epoch 6/10\n",
      "553/571 [============================>.] - ETA: 0s - loss: 0.5383 - accuracy: 0.7686\n",
      "Epoch 6: val_loss did not improve from 0.53819\n",
      "571/571 [==============================] - 1s 2ms/step - loss: 0.5379 - accuracy: 0.7689 - val_loss: 0.5385 - val_accuracy: 0.7711\n",
      "Epoch 7/10\n",
      "570/571 [============================>.] - ETA: 0s - loss: 0.5377 - accuracy: 0.7688\n",
      "Epoch 7: val_loss did not improve from 0.53819\n",
      "571/571 [==============================] - 1s 2ms/step - loss: 0.5377 - accuracy: 0.7688 - val_loss: 0.5390 - val_accuracy: 0.7711\n",
      "Epoch 8/10\n",
      "565/571 [============================>.] - ETA: 0s - loss: 0.5370 - accuracy: 0.7694\n",
      "Epoch 8: val_loss did not improve from 0.53819\n",
      "571/571 [==============================] - 1s 2ms/step - loss: 0.5377 - accuracy: 0.7690 - val_loss: 0.5397 - val_accuracy: 0.7711\n",
      "Epoch 9/10\n",
      "571/571 [==============================] - ETA: 0s - loss: 0.5371 - accuracy: 0.7695\n",
      "Epoch 9: val_loss improved from 0.53819 to 0.53751, saving model to best_model_weights.hdf5\n",
      "571/571 [==============================] - 2s 3ms/step - loss: 0.5371 - accuracy: 0.7695 - val_loss: 0.5375 - val_accuracy: 0.7711\n",
      "Epoch 10/10\n",
      "554/571 [============================>.] - ETA: 0s - loss: 0.5382 - accuracy: 0.7695\n",
      "Epoch 10: val_loss did not improve from 0.53751\n",
      "571/571 [==============================] - 2s 3ms/step - loss: 0.5367 - accuracy: 0.7707 - val_loss: 0.5390 - val_accuracy: 0.7711\n",
      "Epoch 1/10\n",
      "570/571 [============================>.] - ETA: 0s - loss: 0.6898 - accuracy: 0.5491\n",
      "Epoch 1: val_loss improved from inf to 0.68944, saving model to best_model_weights.hdf5\n",
      "571/571 [==============================] - 3s 3ms/step - loss: 0.6898 - accuracy: 0.5490 - val_loss: 0.6894 - val_accuracy: 0.5433\n",
      "Epoch 2/10\n",
      "566/571 [============================>.] - ETA: 0s - loss: 0.6884 - accuracy: 0.5493\n",
      "Epoch 2: val_loss improved from 0.68944 to 0.68941, saving model to best_model_weights.hdf5\n",
      "571/571 [==============================] - 1s 2ms/step - loss: 0.6883 - accuracy: 0.5497 - val_loss: 0.6894 - val_accuracy: 0.5433\n",
      "Epoch 3/10\n",
      "560/571 [============================>.] - ETA: 0s - loss: 0.6883 - accuracy: 0.5496\n",
      "Epoch 3: val_loss did not improve from 0.68941\n",
      "571/571 [==============================] - 1s 3ms/step - loss: 0.6882 - accuracy: 0.5497 - val_loss: 0.6894 - val_accuracy: 0.5433\n",
      "Epoch 4/10\n",
      "549/571 [===========================>..] - ETA: 0s - loss: 0.6882 - accuracy: 0.5498\n",
      "Epoch 4: val_loss did not improve from 0.68941\n",
      "571/571 [==============================] - 1s 2ms/step - loss: 0.6883 - accuracy: 0.5497 - val_loss: 0.6894 - val_accuracy: 0.5433\n",
      "Epoch 5/10\n",
      "554/571 [============================>.] - ETA: 0s - loss: 0.6883 - accuracy: 0.5492\n",
      "Epoch 5: val_loss did not improve from 0.68941\n",
      "571/571 [==============================] - 1s 2ms/step - loss: 0.6882 - accuracy: 0.5497 - val_loss: 0.6895 - val_accuracy: 0.5433\n",
      "Epoch 6/10\n",
      "556/571 [============================>.] - ETA: 0s - loss: 0.6882 - accuracy: 0.5497\n",
      "Epoch 6: val_loss did not improve from 0.68941\n",
      "571/571 [==============================] - 1s 2ms/step - loss: 0.6882 - accuracy: 0.5497 - val_loss: 0.6895 - val_accuracy: 0.5433\n",
      "Epoch 7/10\n",
      "544/571 [===========================>..] - ETA: 0s - loss: 0.6882 - accuracy: 0.5499\n",
      "Epoch 7: val_loss did not improve from 0.68941\n",
      "571/571 [==============================] - 1s 2ms/step - loss: 0.6882 - accuracy: 0.5497 - val_loss: 0.6895 - val_accuracy: 0.5433\n",
      "Epoch 8/10\n",
      "544/571 [===========================>..] - ETA: 0s - loss: 0.6881 - accuracy: 0.5504\n",
      "Epoch 8: val_loss did not improve from 0.68941\n",
      "571/571 [==============================] - 1s 2ms/step - loss: 0.6882 - accuracy: 0.5497 - val_loss: 0.6895 - val_accuracy: 0.5433\n",
      "Epoch 9/10\n",
      "570/571 [============================>.] - ETA: 0s - loss: 0.6882 - accuracy: 0.5497\n",
      "Epoch 9: val_loss did not improve from 0.68941\n",
      "571/571 [==============================] - 2s 3ms/step - loss: 0.6882 - accuracy: 0.5497 - val_loss: 0.6894 - val_accuracy: 0.5433\n",
      "Epoch 10/10\n",
      "546/571 [===========================>..] - ETA: 0s - loss: 0.6881 - accuracy: 0.5504\n",
      "Epoch 10: val_loss did not improve from 0.68941\n",
      "571/571 [==============================] - 1s 2ms/step - loss: 0.6882 - accuracy: 0.5497 - val_loss: 0.6894 - val_accuracy: 0.5433\n"
     ]
    }
   ],
   "source": [
    "accuracy_Data, Validation_acc_Data = attribute_reduction_model()"
   ]
  },
  {
   "cell_type": "code",
   "execution_count": 263,
   "id": "8027d162-2536-4f45-9a8d-4c9bbb68bc72",
   "metadata": {},
   "outputs": [
    {
     "name": "stdout",
     "output_type": "stream",
     "text": [
      "age: 1.0\n",
      "sex: 1.0\n",
      "fbs: 1.0\n",
      "restecg: 1.0\n",
      "trestbps: 1.0\n",
      "chol: 0.9718562364578247\n",
      "slope: 0.9767174124717712\n",
      "exang: 0.9614942073822021\n",
      "thalach: 0.906741738319397\n",
      "oldpeak: 0.8555712103843689\n",
      "ca: 0.7807343006134033\n",
      "cp: 0.7711398005485535\n",
      "thal: 0.5433030724525452\n"
     ]
    }
   ],
   "source": [
    "Validation_acc = []\n",
    "for feature in Validation_acc_Data:\n",
    "    feature_name = list(feature.keys())[0]\n",
    "    accuracy = feature[feature_name]\n",
    "    end_accu = accuracy[-1]\n",
    "    print(f\"{feature_name}: {end_accu}\")"
   ]
  },
  {
   "cell_type": "code",
   "execution_count": 103,
   "id": "429fb75a-3d8c-471d-b160-585254c70344",
   "metadata": {},
   "outputs": [
    {
     "data": {
      "image/png": "[encoded data removed]",
      "text/plain": [
       "<Figure size 1440x576 with 1 Axes>"
      ]
     },
     "metadata": {
      "needs_background": "light"
     },
     "output_type": "display_data"
    }
   ],
   "source": [
    "import matplotlib.pyplot as plt\n",
    "\n",
    "# define the feature names and their corresponding accuracies\n",
    "feature_names = ['age', 'sex', 'fbs', 'restecg', 'trestbps', 'chol', 'slope', 'exang', 'thalach', 'oldpeak', 'ca', 'cp', 'thal']\n",
    "accuracies = [1.0, 1.0, 1.0, 1.0, 1.0, 0.9718562364578247, 0.9767174124717712, 0.9614942073822021, 0.906741738319397, 0.8555712103843689, 0.7807343006134033, 0.7711398005485535, 0.5433030724525452]\n",
    "\n",
    "# create a bar chart\n",
    "fig, ax = plt.subplots(figsize=(20, 8))\n",
    "ax.bar(feature_names, accuracies)\n",
    "\n",
    "# add labels and title\n",
    "ax.set_xlabel('Accuracie after removing features one after another')\n",
    "ax.set_ylabel('Accuracy')\n",
    "ax.set_title('Accuracy of Features')\n",
    "plt.savefig(\"featureReduction\")\n",
    "# display the chart\n",
    "plt.show()"
   ]
  }
 ],
 "metadata": {
  "kernelspec": {
   "display_name": "Python 3 (ipykernel)",
   "language": "python",
   "name": "python3"
  },
  "language_info": {
   "codemirror_mode": {
    "name": "ipython",
    "version": 3
   },
   "file_extension": ".py",
   "mimetype": "text/x-python",
   "name": "python",
   "nbconvert_exporter": "python",
   "pygments_lexer": "ipython3",
   "version": "3.9.7"
  }
 },
 "nbformat": 4,
 "nbformat_minor": 5
}
